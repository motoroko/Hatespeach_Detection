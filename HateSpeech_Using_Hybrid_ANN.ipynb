{
  "cells": [
    {
      "cell_type": "markdown",
      "metadata": {
        "id": "view-in-github",
        "colab_type": "text"
      },
      "source": [
        "<a href=\"https://colab.research.google.com/github/motoroko/Hatespeach_Detection/blob/main/HateSpeech_Using_Hybrid_ANN.ipynb\" target=\"_parent\"><img src=\"https://colab.research.google.com/assets/colab-badge.svg\" alt=\"Open In Colab\"/></a>"
      ]
    },
    {
      "cell_type": "markdown",
      "metadata": {
        "id": "mR64XpdNgUoj"
      },
      "source": [
        "# Library\n"
      ]
    },
    {
      "cell_type": "code",
      "execution_count": null,
      "metadata": {
        "id": "eNGCAN5wgcgW"
      },
      "outputs": [],
      "source": [
        "import pandas as pd\n",
        "import numpy as np\n",
        "import matplotlib.pyplot as plt\n",
        "import warnings\n",
        "warnings.filterwarnings('ignore')"
      ]
    },
    {
      "cell_type": "code",
      "execution_count": null,
      "metadata": {
        "colab": {
          "base_uri": "https://localhost:8080/"
        },
        "id": "d2-Vq0qny6hK",
        "outputId": "04b3f1d6-171e-48e8-d256-8c0b0ee3eb0e"
      },
      "outputs": [
        {
          "output_type": "stream",
          "name": "stderr",
          "text": [
            "[nltk_data] Downloading package punkt to /root/nltk_data...\n",
            "[nltk_data]   Package punkt is already up-to-date!\n",
            "[nltk_data] Downloading package stopwords to /root/nltk_data...\n",
            "[nltk_data]   Package stopwords is already up-to-date!\n"
          ]
        }
      ],
      "source": [
        "import nltk\n",
        "nltk.download('punkt')\n",
        "nltk.download('stopwords')\n",
        "from nltk.tokenize import word_tokenize\n",
        "from nltk.corpus import stopwords\n",
        "import string\n",
        "import re"
      ]
    },
    {
      "cell_type": "markdown",
      "metadata": {
        "id": "30bi8TwRDr2d"
      },
      "source": [
        "# Dataset"
      ]
    },
    {
      "cell_type": "code",
      "execution_count": null,
      "metadata": {
        "colab": {
          "base_uri": "https://localhost:8080/",
          "height": 424
        },
        "id": "xJtvqxFqMn4P",
        "outputId": "5c7a9e93-9827-492c-e556-d333f2b25147"
      },
      "outputs": [
        {
          "output_type": "execute_result",
          "data": {
            "text/plain": [
              "       Label                                              Tweet\n",
              "0         HS  RT @Ardiesuhardi1: @CintaNirmala2 @IrmansyahAd...\n",
              "1         HS  RT @maspiyuaja: Deddy Corbuzier Akhirnya Minta...\n",
              "2         HS  RT @Ressam2222: Klo Dipikir-pikir pelaku LGBT ...\n",
              "3         HS  RT @ZeroDemoCRAZY: Yg tidak setuju adanya prom...\n",
              "4         HS  RT @maspiyuaja: Sultan Brunei Terapkan Hukuman...\n",
              "...      ...                                                ...\n",
              "4428  Non_HS  RT @cuddl3bear_: Heboh heboh heboh🥶\\nTas puffy...\n",
              "4429  Non_HS  RT @Catatan_ali7: LGBT itu penyakit jauh lebih...\n",
              "4430  Non_HS  Yakin bahwa ini bukan jalan yang terbaik untuk...\n",
              "4431  Non_HS  Pada akhirnya, orang jahat akan jatuh, dan ora...\n",
              "4432  Non_HS  @saidaqil apa maksud pernyataan. Anda? Apa and...\n",
              "\n",
              "[4433 rows x 2 columns]"
            ],
            "text/html": [
              "\n",
              "  <div id=\"df-a0177421-2821-48fa-8b38-8f207a07a08d\">\n",
              "    <div class=\"colab-df-container\">\n",
              "      <div>\n",
              "<style scoped>\n",
              "    .dataframe tbody tr th:only-of-type {\n",
              "        vertical-align: middle;\n",
              "    }\n",
              "\n",
              "    .dataframe tbody tr th {\n",
              "        vertical-align: top;\n",
              "    }\n",
              "\n",
              "    .dataframe thead th {\n",
              "        text-align: right;\n",
              "    }\n",
              "</style>\n",
              "<table border=\"1\" class=\"dataframe\">\n",
              "  <thead>\n",
              "    <tr style=\"text-align: right;\">\n",
              "      <th></th>\n",
              "      <th>Label</th>\n",
              "      <th>Tweet</th>\n",
              "    </tr>\n",
              "  </thead>\n",
              "  <tbody>\n",
              "    <tr>\n",
              "      <th>0</th>\n",
              "      <td>HS</td>\n",
              "      <td>RT @Ardiesuhardi1: @CintaNirmala2 @IrmansyahAd...</td>\n",
              "    </tr>\n",
              "    <tr>\n",
              "      <th>1</th>\n",
              "      <td>HS</td>\n",
              "      <td>RT @maspiyuaja: Deddy Corbuzier Akhirnya Minta...</td>\n",
              "    </tr>\n",
              "    <tr>\n",
              "      <th>2</th>\n",
              "      <td>HS</td>\n",
              "      <td>RT @Ressam2222: Klo Dipikir-pikir pelaku LGBT ...</td>\n",
              "    </tr>\n",
              "    <tr>\n",
              "      <th>3</th>\n",
              "      <td>HS</td>\n",
              "      <td>RT @ZeroDemoCRAZY: Yg tidak setuju adanya prom...</td>\n",
              "    </tr>\n",
              "    <tr>\n",
              "      <th>4</th>\n",
              "      <td>HS</td>\n",
              "      <td>RT @maspiyuaja: Sultan Brunei Terapkan Hukuman...</td>\n",
              "    </tr>\n",
              "    <tr>\n",
              "      <th>...</th>\n",
              "      <td>...</td>\n",
              "      <td>...</td>\n",
              "    </tr>\n",
              "    <tr>\n",
              "      <th>4428</th>\n",
              "      <td>Non_HS</td>\n",
              "      <td>RT @cuddl3bear_: Heboh heboh heboh🥶\\nTas puffy...</td>\n",
              "    </tr>\n",
              "    <tr>\n",
              "      <th>4429</th>\n",
              "      <td>Non_HS</td>\n",
              "      <td>RT @Catatan_ali7: LGBT itu penyakit jauh lebih...</td>\n",
              "    </tr>\n",
              "    <tr>\n",
              "      <th>4430</th>\n",
              "      <td>Non_HS</td>\n",
              "      <td>Yakin bahwa ini bukan jalan yang terbaik untuk...</td>\n",
              "    </tr>\n",
              "    <tr>\n",
              "      <th>4431</th>\n",
              "      <td>Non_HS</td>\n",
              "      <td>Pada akhirnya, orang jahat akan jatuh, dan ora...</td>\n",
              "    </tr>\n",
              "    <tr>\n",
              "      <th>4432</th>\n",
              "      <td>Non_HS</td>\n",
              "      <td>@saidaqil apa maksud pernyataan. Anda? Apa and...</td>\n",
              "    </tr>\n",
              "  </tbody>\n",
              "</table>\n",
              "<p>4433 rows × 2 columns</p>\n",
              "</div>\n",
              "      <button class=\"colab-df-convert\" onclick=\"convertToInteractive('df-a0177421-2821-48fa-8b38-8f207a07a08d')\"\n",
              "              title=\"Convert this dataframe to an interactive table.\"\n",
              "              style=\"display:none;\">\n",
              "        \n",
              "  <svg xmlns=\"http://www.w3.org/2000/svg\" height=\"24px\"viewBox=\"0 0 24 24\"\n",
              "       width=\"24px\">\n",
              "    <path d=\"M0 0h24v24H0V0z\" fill=\"none\"/>\n",
              "    <path d=\"M18.56 5.44l.94 2.06.94-2.06 2.06-.94-2.06-.94-.94-2.06-.94 2.06-2.06.94zm-11 1L8.5 8.5l.94-2.06 2.06-.94-2.06-.94L8.5 2.5l-.94 2.06-2.06.94zm10 10l.94 2.06.94-2.06 2.06-.94-2.06-.94-.94-2.06-.94 2.06-2.06.94z\"/><path d=\"M17.41 7.96l-1.37-1.37c-.4-.4-.92-.59-1.43-.59-.52 0-1.04.2-1.43.59L10.3 9.45l-7.72 7.72c-.78.78-.78 2.05 0 2.83L4 21.41c.39.39.9.59 1.41.59.51 0 1.02-.2 1.41-.59l7.78-7.78 2.81-2.81c.8-.78.8-2.07 0-2.86zM5.41 20L4 18.59l7.72-7.72 1.47 1.35L5.41 20z\"/>\n",
              "  </svg>\n",
              "      </button>\n",
              "      \n",
              "  <style>\n",
              "    .colab-df-container {\n",
              "      display:flex;\n",
              "      flex-wrap:wrap;\n",
              "      gap: 12px;\n",
              "    }\n",
              "\n",
              "    .colab-df-convert {\n",
              "      background-color: #E8F0FE;\n",
              "      border: none;\n",
              "      border-radius: 50%;\n",
              "      cursor: pointer;\n",
              "      display: none;\n",
              "      fill: #1967D2;\n",
              "      height: 32px;\n",
              "      padding: 0 0 0 0;\n",
              "      width: 32px;\n",
              "    }\n",
              "\n",
              "    .colab-df-convert:hover {\n",
              "      background-color: #E2EBFA;\n",
              "      box-shadow: 0px 1px 2px rgba(60, 64, 67, 0.3), 0px 1px 3px 1px rgba(60, 64, 67, 0.15);\n",
              "      fill: #174EA6;\n",
              "    }\n",
              "\n",
              "    [theme=dark] .colab-df-convert {\n",
              "      background-color: #3B4455;\n",
              "      fill: #D2E3FC;\n",
              "    }\n",
              "\n",
              "    [theme=dark] .colab-df-convert:hover {\n",
              "      background-color: #434B5C;\n",
              "      box-shadow: 0px 1px 3px 1px rgba(0, 0, 0, 0.15);\n",
              "      filter: drop-shadow(0px 1px 2px rgba(0, 0, 0, 0.3));\n",
              "      fill: #FFFFFF;\n",
              "    }\n",
              "  </style>\n",
              "\n",
              "      <script>\n",
              "        const buttonEl =\n",
              "          document.querySelector('#df-a0177421-2821-48fa-8b38-8f207a07a08d button.colab-df-convert');\n",
              "        buttonEl.style.display =\n",
              "          google.colab.kernel.accessAllowed ? 'block' : 'none';\n",
              "\n",
              "        async function convertToInteractive(key) {\n",
              "          const element = document.querySelector('#df-a0177421-2821-48fa-8b38-8f207a07a08d');\n",
              "          const dataTable =\n",
              "            await google.colab.kernel.invokeFunction('convertToInteractive',\n",
              "                                                     [key], {});\n",
              "          if (!dataTable) return;\n",
              "\n",
              "          const docLinkHtml = 'Like what you see? Visit the ' +\n",
              "            '<a target=\"_blank\" href=https://colab.research.google.com/notebooks/data_table.ipynb>data table notebook</a>'\n",
              "            + ' to learn more about interactive tables.';\n",
              "          element.innerHTML = '';\n",
              "          dataTable['output_type'] = 'display_data';\n",
              "          await google.colab.output.renderOutput(dataTable, element);\n",
              "          const docLink = document.createElement('div');\n",
              "          docLink.innerHTML = docLinkHtml;\n",
              "          element.appendChild(docLink);\n",
              "        }\n",
              "      </script>\n",
              "    </div>\n",
              "  </div>\n",
              "  "
            ]
          },
          "metadata": {},
          "execution_count": 3
        }
      ],
      "source": [
        "df = pd.read_csv('Data_Hatespeach.csv')\n",
        "df.sort_values('Label',inplace=True)\n",
        "df.reset_index(drop=True, inplace=True)\n",
        "df"
      ]
    },
    {
      "cell_type": "markdown",
      "metadata": {
        "id": "HOtCRhuPVhOt"
      },
      "source": [
        "# Dataset Preprocessing"
      ]
    },
    {
      "cell_type": "markdown",
      "metadata": {
        "id": "Dr2XWH3lkf3F"
      },
      "source": [
        "## text processing"
      ]
    },
    {
      "cell_type": "code",
      "execution_count": null,
      "metadata": {
        "colab": {
          "base_uri": "https://localhost:8080/",
          "height": 424
        },
        "id": "RHq_l1aP_gvo",
        "outputId": "9271dc38-0967-4c58-8f27-90f98bb8dfc5"
      },
      "outputs": [
        {
          "output_type": "execute_result",
          "data": {
            "text/plain": [
              "       Label                                              Tweet\n",
              "0         HS  rt ardiesuhardi cintanirmala irmansyahadhy ott...\n",
              "1         HS  rt maspiyuaja deddy corbuzier akhirnya minta m...\n",
              "2         HS  rt ressam klo dipikirpikir pelaku lgbt lebih h...\n",
              "3         HS  rt zerodemocrazy yg tidak setuju adanya promo ...\n",
              "4         HS  rt maspiyuaja sultan brunei terapkan hukuman t...\n",
              "...      ...                                                ...\n",
              "4428  Non_HS  rt cuddlbear heboh heboh heboh🥶 tas puffynya k...\n",
              "4429  Non_HS  rt catatanali lgbt itu penyakit jauh lebih ber...\n",
              "4430  Non_HS  yakin bahwa ini bukan jalan yang terbaik untuk...\n",
              "4431  Non_HS  pada akhirnya orang jahat akan jatuh dan orang...\n",
              "4432  Non_HS  saidaqil apa maksud pernyataan anda apa anda m...\n",
              "\n",
              "[4433 rows x 2 columns]"
            ],
            "text/html": [
              "\n",
              "  <div id=\"df-99e81c70-acdc-4bf3-9ead-c88d32613adc\">\n",
              "    <div class=\"colab-df-container\">\n",
              "      <div>\n",
              "<style scoped>\n",
              "    .dataframe tbody tr th:only-of-type {\n",
              "        vertical-align: middle;\n",
              "    }\n",
              "\n",
              "    .dataframe tbody tr th {\n",
              "        vertical-align: top;\n",
              "    }\n",
              "\n",
              "    .dataframe thead th {\n",
              "        text-align: right;\n",
              "    }\n",
              "</style>\n",
              "<table border=\"1\" class=\"dataframe\">\n",
              "  <thead>\n",
              "    <tr style=\"text-align: right;\">\n",
              "      <th></th>\n",
              "      <th>Label</th>\n",
              "      <th>Tweet</th>\n",
              "    </tr>\n",
              "  </thead>\n",
              "  <tbody>\n",
              "    <tr>\n",
              "      <th>0</th>\n",
              "      <td>HS</td>\n",
              "      <td>rt ardiesuhardi cintanirmala irmansyahadhy ott...</td>\n",
              "    </tr>\n",
              "    <tr>\n",
              "      <th>1</th>\n",
              "      <td>HS</td>\n",
              "      <td>rt maspiyuaja deddy corbuzier akhirnya minta m...</td>\n",
              "    </tr>\n",
              "    <tr>\n",
              "      <th>2</th>\n",
              "      <td>HS</td>\n",
              "      <td>rt ressam klo dipikirpikir pelaku lgbt lebih h...</td>\n",
              "    </tr>\n",
              "    <tr>\n",
              "      <th>3</th>\n",
              "      <td>HS</td>\n",
              "      <td>rt zerodemocrazy yg tidak setuju adanya promo ...</td>\n",
              "    </tr>\n",
              "    <tr>\n",
              "      <th>4</th>\n",
              "      <td>HS</td>\n",
              "      <td>rt maspiyuaja sultan brunei terapkan hukuman t...</td>\n",
              "    </tr>\n",
              "    <tr>\n",
              "      <th>...</th>\n",
              "      <td>...</td>\n",
              "      <td>...</td>\n",
              "    </tr>\n",
              "    <tr>\n",
              "      <th>4428</th>\n",
              "      <td>Non_HS</td>\n",
              "      <td>rt cuddlbear heboh heboh heboh🥶 tas puffynya k...</td>\n",
              "    </tr>\n",
              "    <tr>\n",
              "      <th>4429</th>\n",
              "      <td>Non_HS</td>\n",
              "      <td>rt catatanali lgbt itu penyakit jauh lebih ber...</td>\n",
              "    </tr>\n",
              "    <tr>\n",
              "      <th>4430</th>\n",
              "      <td>Non_HS</td>\n",
              "      <td>yakin bahwa ini bukan jalan yang terbaik untuk...</td>\n",
              "    </tr>\n",
              "    <tr>\n",
              "      <th>4431</th>\n",
              "      <td>Non_HS</td>\n",
              "      <td>pada akhirnya orang jahat akan jatuh dan orang...</td>\n",
              "    </tr>\n",
              "    <tr>\n",
              "      <th>4432</th>\n",
              "      <td>Non_HS</td>\n",
              "      <td>saidaqil apa maksud pernyataan anda apa anda m...</td>\n",
              "    </tr>\n",
              "  </tbody>\n",
              "</table>\n",
              "<p>4433 rows × 2 columns</p>\n",
              "</div>\n",
              "      <button class=\"colab-df-convert\" onclick=\"convertToInteractive('df-99e81c70-acdc-4bf3-9ead-c88d32613adc')\"\n",
              "              title=\"Convert this dataframe to an interactive table.\"\n",
              "              style=\"display:none;\">\n",
              "        \n",
              "  <svg xmlns=\"http://www.w3.org/2000/svg\" height=\"24px\"viewBox=\"0 0 24 24\"\n",
              "       width=\"24px\">\n",
              "    <path d=\"M0 0h24v24H0V0z\" fill=\"none\"/>\n",
              "    <path d=\"M18.56 5.44l.94 2.06.94-2.06 2.06-.94-2.06-.94-.94-2.06-.94 2.06-2.06.94zm-11 1L8.5 8.5l.94-2.06 2.06-.94-2.06-.94L8.5 2.5l-.94 2.06-2.06.94zm10 10l.94 2.06.94-2.06 2.06-.94-2.06-.94-.94-2.06-.94 2.06-2.06.94z\"/><path d=\"M17.41 7.96l-1.37-1.37c-.4-.4-.92-.59-1.43-.59-.52 0-1.04.2-1.43.59L10.3 9.45l-7.72 7.72c-.78.78-.78 2.05 0 2.83L4 21.41c.39.39.9.59 1.41.59.51 0 1.02-.2 1.41-.59l7.78-7.78 2.81-2.81c.8-.78.8-2.07 0-2.86zM5.41 20L4 18.59l7.72-7.72 1.47 1.35L5.41 20z\"/>\n",
              "  </svg>\n",
              "      </button>\n",
              "      \n",
              "  <style>\n",
              "    .colab-df-container {\n",
              "      display:flex;\n",
              "      flex-wrap:wrap;\n",
              "      gap: 12px;\n",
              "    }\n",
              "\n",
              "    .colab-df-convert {\n",
              "      background-color: #E8F0FE;\n",
              "      border: none;\n",
              "      border-radius: 50%;\n",
              "      cursor: pointer;\n",
              "      display: none;\n",
              "      fill: #1967D2;\n",
              "      height: 32px;\n",
              "      padding: 0 0 0 0;\n",
              "      width: 32px;\n",
              "    }\n",
              "\n",
              "    .colab-df-convert:hover {\n",
              "      background-color: #E2EBFA;\n",
              "      box-shadow: 0px 1px 2px rgba(60, 64, 67, 0.3), 0px 1px 3px 1px rgba(60, 64, 67, 0.15);\n",
              "      fill: #174EA6;\n",
              "    }\n",
              "\n",
              "    [theme=dark] .colab-df-convert {\n",
              "      background-color: #3B4455;\n",
              "      fill: #D2E3FC;\n",
              "    }\n",
              "\n",
              "    [theme=dark] .colab-df-convert:hover {\n",
              "      background-color: #434B5C;\n",
              "      box-shadow: 0px 1px 3px 1px rgba(0, 0, 0, 0.15);\n",
              "      filter: drop-shadow(0px 1px 2px rgba(0, 0, 0, 0.3));\n",
              "      fill: #FFFFFF;\n",
              "    }\n",
              "  </style>\n",
              "\n",
              "      <script>\n",
              "        const buttonEl =\n",
              "          document.querySelector('#df-99e81c70-acdc-4bf3-9ead-c88d32613adc button.colab-df-convert');\n",
              "        buttonEl.style.display =\n",
              "          google.colab.kernel.accessAllowed ? 'block' : 'none';\n",
              "\n",
              "        async function convertToInteractive(key) {\n",
              "          const element = document.querySelector('#df-99e81c70-acdc-4bf3-9ead-c88d32613adc');\n",
              "          const dataTable =\n",
              "            await google.colab.kernel.invokeFunction('convertToInteractive',\n",
              "                                                     [key], {});\n",
              "          if (!dataTable) return;\n",
              "\n",
              "          const docLinkHtml = 'Like what you see? Visit the ' +\n",
              "            '<a target=\"_blank\" href=https://colab.research.google.com/notebooks/data_table.ipynb>data table notebook</a>'\n",
              "            + ' to learn more about interactive tables.';\n",
              "          element.innerHTML = '';\n",
              "          dataTable['output_type'] = 'display_data';\n",
              "          await google.colab.output.renderOutput(dataTable, element);\n",
              "          const docLink = document.createElement('div');\n",
              "          docLink.innerHTML = docLinkHtml;\n",
              "          element.appendChild(docLink);\n",
              "        }\n",
              "      </script>\n",
              "    </div>\n",
              "  </div>\n",
              "  "
            ]
          },
          "metadata": {},
          "execution_count": 4
        }
      ],
      "source": [
        "for i in range(df.shape[0]):\n",
        "  #case folding\n",
        "  df.iloc[i].Tweet = df.iloc[i].Tweet.lower()\n",
        "\n",
        "  #remove angka\n",
        "  df.iloc[i].Tweet = re.sub(r\"\\d+\", \"\", df.iloc[i].Tweet)\n",
        "\n",
        "  #remove punctuation\n",
        "  df.iloc[i].Tweet = df.iloc[i].Tweet.translate(str.maketrans(\"\",\"\",string.punctuation))\n",
        "\n",
        "  #remove whitespace leading & trailing\n",
        "  df.iloc[i].Tweet = df.iloc[i].Tweet.strip()\n",
        "\n",
        "  #remove multiple whitespace into single whitespace\n",
        "  df.iloc[i].Tweet = re.sub('\\s+',' ',df.iloc[i].Tweet)\n",
        "\n",
        "df"
      ]
    },
    {
      "cell_type": "markdown",
      "metadata": {
        "id": "dux6YGB8ESb0"
      },
      "source": [
        "## Class Label Encoding"
      ]
    },
    {
      "cell_type": "code",
      "execution_count": null,
      "metadata": {
        "colab": {
          "base_uri": "https://localhost:8080/"
        },
        "id": "LQIHCdh0Ci_R",
        "outputId": "fde07677-0ae6-41d0-966e-8dfa9232d05f"
      },
      "outputs": [
        {
          "output_type": "stream",
          "name": "stdout",
          "text": [
            "[[   0    1]\n",
            " [3291 1142]]\n"
          ]
        }
      ],
      "source": [
        "from sklearn.preprocessing import LabelEncoder\n",
        "Label = LabelEncoder().fit_transform(df.Label)\n",
        "unique, counts = np.unique(Label, return_counts=True)\n",
        "\n",
        "print(np.asarray((unique, counts)))"
      ]
    },
    {
      "cell_type": "markdown",
      "metadata": {
        "id": "DVWpM7j9EJ_e"
      },
      "source": [
        "## Feature Extractions"
      ]
    },
    {
      "cell_type": "code",
      "execution_count": null,
      "metadata": {
        "colab": {
          "base_uri": "https://localhost:8080/",
          "height": 424
        },
        "id": "PvZMu6K-LNWE",
        "outputId": "d377dc76-3d3a-4dff-93fe-1fd411bf0619"
      },
      "outputs": [
        {
          "output_type": "execute_result",
          "data": {
            "text/plain": [
              "      0     1     2     3     4     5     6     7     8     9     ...  4133  \\\n",
              "0        0     0     0     0     0     0     0     0     0     0  ...     0   \n",
              "1        0     0     0     0     0     0     0     0     0     0  ...     0   \n",
              "2        0     0     0     0     0     0     0     0     0     0  ...     0   \n",
              "3        0     0     0     0     0     0     0     0     0     0  ...     0   \n",
              "4        0     0     0     0     0     0     0     0     0     0  ...     0   \n",
              "...    ...   ...   ...   ...   ...   ...   ...   ...   ...   ...  ...   ...   \n",
              "4428     0     0     0     0     0     0     0     0     0     0  ...     0   \n",
              "4429     0     0     0     0     0     0     0     0     0     0  ...     0   \n",
              "4430     0     0     0     0     0     0     0     0     0     0  ...     0   \n",
              "4431     0     0     0     0     0     0     0     0     0     0  ...     0   \n",
              "4432     0     0     0     0     0     0     0     0     0     0  ...     0   \n",
              "\n",
              "      4134  4135  4136  4137  4138  4139  4140  4141  4142  \n",
              "0        0     0     0     0     0     0     0     0     0  \n",
              "1        0     0     0     0     0     0     0     0     0  \n",
              "2        0     0     0     0     0     0     0     0     0  \n",
              "3        0     0     0     0     0     0     0     0     0  \n",
              "4        0     0     0     0     0     0     0     0     0  \n",
              "...    ...   ...   ...   ...   ...   ...   ...   ...   ...  \n",
              "4428     0     0     0     0     0     0     0     0     0  \n",
              "4429     0     0     0     0     0     0     0     0     0  \n",
              "4430     0     0     0     0     0     0     0     0     0  \n",
              "4431     0     0     0     0     0     0     0     0     0  \n",
              "4432     0     0     0     0     0     0     0     0     0  \n",
              "\n",
              "[4433 rows x 4143 columns]"
            ],
            "text/html": [
              "\n",
              "  <div id=\"df-8df48f40-ff86-4a29-a022-78d4b730cf79\">\n",
              "    <div class=\"colab-df-container\">\n",
              "      <div>\n",
              "<style scoped>\n",
              "    .dataframe tbody tr th:only-of-type {\n",
              "        vertical-align: middle;\n",
              "    }\n",
              "\n",
              "    .dataframe tbody tr th {\n",
              "        vertical-align: top;\n",
              "    }\n",
              "\n",
              "    .dataframe thead th {\n",
              "        text-align: right;\n",
              "    }\n",
              "</style>\n",
              "<table border=\"1\" class=\"dataframe\">\n",
              "  <thead>\n",
              "    <tr style=\"text-align: right;\">\n",
              "      <th></th>\n",
              "      <th>0</th>\n",
              "      <th>1</th>\n",
              "      <th>2</th>\n",
              "      <th>3</th>\n",
              "      <th>4</th>\n",
              "      <th>5</th>\n",
              "      <th>6</th>\n",
              "      <th>7</th>\n",
              "      <th>8</th>\n",
              "      <th>9</th>\n",
              "      <th>...</th>\n",
              "      <th>4133</th>\n",
              "      <th>4134</th>\n",
              "      <th>4135</th>\n",
              "      <th>4136</th>\n",
              "      <th>4137</th>\n",
              "      <th>4138</th>\n",
              "      <th>4139</th>\n",
              "      <th>4140</th>\n",
              "      <th>4141</th>\n",
              "      <th>4142</th>\n",
              "    </tr>\n",
              "  </thead>\n",
              "  <tbody>\n",
              "    <tr>\n",
              "      <th>0</th>\n",
              "      <td>0</td>\n",
              "      <td>0</td>\n",
              "      <td>0</td>\n",
              "      <td>0</td>\n",
              "      <td>0</td>\n",
              "      <td>0</td>\n",
              "      <td>0</td>\n",
              "      <td>0</td>\n",
              "      <td>0</td>\n",
              "      <td>0</td>\n",
              "      <td>...</td>\n",
              "      <td>0</td>\n",
              "      <td>0</td>\n",
              "      <td>0</td>\n",
              "      <td>0</td>\n",
              "      <td>0</td>\n",
              "      <td>0</td>\n",
              "      <td>0</td>\n",
              "      <td>0</td>\n",
              "      <td>0</td>\n",
              "      <td>0</td>\n",
              "    </tr>\n",
              "    <tr>\n",
              "      <th>1</th>\n",
              "      <td>0</td>\n",
              "      <td>0</td>\n",
              "      <td>0</td>\n",
              "      <td>0</td>\n",
              "      <td>0</td>\n",
              "      <td>0</td>\n",
              "      <td>0</td>\n",
              "      <td>0</td>\n",
              "      <td>0</td>\n",
              "      <td>0</td>\n",
              "      <td>...</td>\n",
              "      <td>0</td>\n",
              "      <td>0</td>\n",
              "      <td>0</td>\n",
              "      <td>0</td>\n",
              "      <td>0</td>\n",
              "      <td>0</td>\n",
              "      <td>0</td>\n",
              "      <td>0</td>\n",
              "      <td>0</td>\n",
              "      <td>0</td>\n",
              "    </tr>\n",
              "    <tr>\n",
              "      <th>2</th>\n",
              "      <td>0</td>\n",
              "      <td>0</td>\n",
              "      <td>0</td>\n",
              "      <td>0</td>\n",
              "      <td>0</td>\n",
              "      <td>0</td>\n",
              "      <td>0</td>\n",
              "      <td>0</td>\n",
              "      <td>0</td>\n",
              "      <td>0</td>\n",
              "      <td>...</td>\n",
              "      <td>0</td>\n",
              "      <td>0</td>\n",
              "      <td>0</td>\n",
              "      <td>0</td>\n",
              "      <td>0</td>\n",
              "      <td>0</td>\n",
              "      <td>0</td>\n",
              "      <td>0</td>\n",
              "      <td>0</td>\n",
              "      <td>0</td>\n",
              "    </tr>\n",
              "    <tr>\n",
              "      <th>3</th>\n",
              "      <td>0</td>\n",
              "      <td>0</td>\n",
              "      <td>0</td>\n",
              "      <td>0</td>\n",
              "      <td>0</td>\n",
              "      <td>0</td>\n",
              "      <td>0</td>\n",
              "      <td>0</td>\n",
              "      <td>0</td>\n",
              "      <td>0</td>\n",
              "      <td>...</td>\n",
              "      <td>0</td>\n",
              "      <td>0</td>\n",
              "      <td>0</td>\n",
              "      <td>0</td>\n",
              "      <td>0</td>\n",
              "      <td>0</td>\n",
              "      <td>0</td>\n",
              "      <td>0</td>\n",
              "      <td>0</td>\n",
              "      <td>0</td>\n",
              "    </tr>\n",
              "    <tr>\n",
              "      <th>4</th>\n",
              "      <td>0</td>\n",
              "      <td>0</td>\n",
              "      <td>0</td>\n",
              "      <td>0</td>\n",
              "      <td>0</td>\n",
              "      <td>0</td>\n",
              "      <td>0</td>\n",
              "      <td>0</td>\n",
              "      <td>0</td>\n",
              "      <td>0</td>\n",
              "      <td>...</td>\n",
              "      <td>0</td>\n",
              "      <td>0</td>\n",
              "      <td>0</td>\n",
              "      <td>0</td>\n",
              "      <td>0</td>\n",
              "      <td>0</td>\n",
              "      <td>0</td>\n",
              "      <td>0</td>\n",
              "      <td>0</td>\n",
              "      <td>0</td>\n",
              "    </tr>\n",
              "    <tr>\n",
              "      <th>...</th>\n",
              "      <td>...</td>\n",
              "      <td>...</td>\n",
              "      <td>...</td>\n",
              "      <td>...</td>\n",
              "      <td>...</td>\n",
              "      <td>...</td>\n",
              "      <td>...</td>\n",
              "      <td>...</td>\n",
              "      <td>...</td>\n",
              "      <td>...</td>\n",
              "      <td>...</td>\n",
              "      <td>...</td>\n",
              "      <td>...</td>\n",
              "      <td>...</td>\n",
              "      <td>...</td>\n",
              "      <td>...</td>\n",
              "      <td>...</td>\n",
              "      <td>...</td>\n",
              "      <td>...</td>\n",
              "      <td>...</td>\n",
              "      <td>...</td>\n",
              "    </tr>\n",
              "    <tr>\n",
              "      <th>4428</th>\n",
              "      <td>0</td>\n",
              "      <td>0</td>\n",
              "      <td>0</td>\n",
              "      <td>0</td>\n",
              "      <td>0</td>\n",
              "      <td>0</td>\n",
              "      <td>0</td>\n",
              "      <td>0</td>\n",
              "      <td>0</td>\n",
              "      <td>0</td>\n",
              "      <td>...</td>\n",
              "      <td>0</td>\n",
              "      <td>0</td>\n",
              "      <td>0</td>\n",
              "      <td>0</td>\n",
              "      <td>0</td>\n",
              "      <td>0</td>\n",
              "      <td>0</td>\n",
              "      <td>0</td>\n",
              "      <td>0</td>\n",
              "      <td>0</td>\n",
              "    </tr>\n",
              "    <tr>\n",
              "      <th>4429</th>\n",
              "      <td>0</td>\n",
              "      <td>0</td>\n",
              "      <td>0</td>\n",
              "      <td>0</td>\n",
              "      <td>0</td>\n",
              "      <td>0</td>\n",
              "      <td>0</td>\n",
              "      <td>0</td>\n",
              "      <td>0</td>\n",
              "      <td>0</td>\n",
              "      <td>...</td>\n",
              "      <td>0</td>\n",
              "      <td>0</td>\n",
              "      <td>0</td>\n",
              "      <td>0</td>\n",
              "      <td>0</td>\n",
              "      <td>0</td>\n",
              "      <td>0</td>\n",
              "      <td>0</td>\n",
              "      <td>0</td>\n",
              "      <td>0</td>\n",
              "    </tr>\n",
              "    <tr>\n",
              "      <th>4430</th>\n",
              "      <td>0</td>\n",
              "      <td>0</td>\n",
              "      <td>0</td>\n",
              "      <td>0</td>\n",
              "      <td>0</td>\n",
              "      <td>0</td>\n",
              "      <td>0</td>\n",
              "      <td>0</td>\n",
              "      <td>0</td>\n",
              "      <td>0</td>\n",
              "      <td>...</td>\n",
              "      <td>0</td>\n",
              "      <td>0</td>\n",
              "      <td>0</td>\n",
              "      <td>0</td>\n",
              "      <td>0</td>\n",
              "      <td>0</td>\n",
              "      <td>0</td>\n",
              "      <td>0</td>\n",
              "      <td>0</td>\n",
              "      <td>0</td>\n",
              "    </tr>\n",
              "    <tr>\n",
              "      <th>4431</th>\n",
              "      <td>0</td>\n",
              "      <td>0</td>\n",
              "      <td>0</td>\n",
              "      <td>0</td>\n",
              "      <td>0</td>\n",
              "      <td>0</td>\n",
              "      <td>0</td>\n",
              "      <td>0</td>\n",
              "      <td>0</td>\n",
              "      <td>0</td>\n",
              "      <td>...</td>\n",
              "      <td>0</td>\n",
              "      <td>0</td>\n",
              "      <td>0</td>\n",
              "      <td>0</td>\n",
              "      <td>0</td>\n",
              "      <td>0</td>\n",
              "      <td>0</td>\n",
              "      <td>0</td>\n",
              "      <td>0</td>\n",
              "      <td>0</td>\n",
              "    </tr>\n",
              "    <tr>\n",
              "      <th>4432</th>\n",
              "      <td>0</td>\n",
              "      <td>0</td>\n",
              "      <td>0</td>\n",
              "      <td>0</td>\n",
              "      <td>0</td>\n",
              "      <td>0</td>\n",
              "      <td>0</td>\n",
              "      <td>0</td>\n",
              "      <td>0</td>\n",
              "      <td>0</td>\n",
              "      <td>...</td>\n",
              "      <td>0</td>\n",
              "      <td>0</td>\n",
              "      <td>0</td>\n",
              "      <td>0</td>\n",
              "      <td>0</td>\n",
              "      <td>0</td>\n",
              "      <td>0</td>\n",
              "      <td>0</td>\n",
              "      <td>0</td>\n",
              "      <td>0</td>\n",
              "    </tr>\n",
              "  </tbody>\n",
              "</table>\n",
              "<p>4433 rows × 4143 columns</p>\n",
              "</div>\n",
              "      <button class=\"colab-df-convert\" onclick=\"convertToInteractive('df-8df48f40-ff86-4a29-a022-78d4b730cf79')\"\n",
              "              title=\"Convert this dataframe to an interactive table.\"\n",
              "              style=\"display:none;\">\n",
              "        \n",
              "  <svg xmlns=\"http://www.w3.org/2000/svg\" height=\"24px\"viewBox=\"0 0 24 24\"\n",
              "       width=\"24px\">\n",
              "    <path d=\"M0 0h24v24H0V0z\" fill=\"none\"/>\n",
              "    <path d=\"M18.56 5.44l.94 2.06.94-2.06 2.06-.94-2.06-.94-.94-2.06-.94 2.06-2.06.94zm-11 1L8.5 8.5l.94-2.06 2.06-.94-2.06-.94L8.5 2.5l-.94 2.06-2.06.94zm10 10l.94 2.06.94-2.06 2.06-.94-2.06-.94-.94-2.06-.94 2.06-2.06.94z\"/><path d=\"M17.41 7.96l-1.37-1.37c-.4-.4-.92-.59-1.43-.59-.52 0-1.04.2-1.43.59L10.3 9.45l-7.72 7.72c-.78.78-.78 2.05 0 2.83L4 21.41c.39.39.9.59 1.41.59.51 0 1.02-.2 1.41-.59l7.78-7.78 2.81-2.81c.8-.78.8-2.07 0-2.86zM5.41 20L4 18.59l7.72-7.72 1.47 1.35L5.41 20z\"/>\n",
              "  </svg>\n",
              "      </button>\n",
              "      \n",
              "  <style>\n",
              "    .colab-df-container {\n",
              "      display:flex;\n",
              "      flex-wrap:wrap;\n",
              "      gap: 12px;\n",
              "    }\n",
              "\n",
              "    .colab-df-convert {\n",
              "      background-color: #E8F0FE;\n",
              "      border: none;\n",
              "      border-radius: 50%;\n",
              "      cursor: pointer;\n",
              "      display: none;\n",
              "      fill: #1967D2;\n",
              "      height: 32px;\n",
              "      padding: 0 0 0 0;\n",
              "      width: 32px;\n",
              "    }\n",
              "\n",
              "    .colab-df-convert:hover {\n",
              "      background-color: #E2EBFA;\n",
              "      box-shadow: 0px 1px 2px rgba(60, 64, 67, 0.3), 0px 1px 3px 1px rgba(60, 64, 67, 0.15);\n",
              "      fill: #174EA6;\n",
              "    }\n",
              "\n",
              "    [theme=dark] .colab-df-convert {\n",
              "      background-color: #3B4455;\n",
              "      fill: #D2E3FC;\n",
              "    }\n",
              "\n",
              "    [theme=dark] .colab-df-convert:hover {\n",
              "      background-color: #434B5C;\n",
              "      box-shadow: 0px 1px 3px 1px rgba(0, 0, 0, 0.15);\n",
              "      filter: drop-shadow(0px 1px 2px rgba(0, 0, 0, 0.3));\n",
              "      fill: #FFFFFF;\n",
              "    }\n",
              "  </style>\n",
              "\n",
              "      <script>\n",
              "        const buttonEl =\n",
              "          document.querySelector('#df-8df48f40-ff86-4a29-a022-78d4b730cf79 button.colab-df-convert');\n",
              "        buttonEl.style.display =\n",
              "          google.colab.kernel.accessAllowed ? 'block' : 'none';\n",
              "\n",
              "        async function convertToInteractive(key) {\n",
              "          const element = document.querySelector('#df-8df48f40-ff86-4a29-a022-78d4b730cf79');\n",
              "          const dataTable =\n",
              "            await google.colab.kernel.invokeFunction('convertToInteractive',\n",
              "                                                     [key], {});\n",
              "          if (!dataTable) return;\n",
              "\n",
              "          const docLinkHtml = 'Like what you see? Visit the ' +\n",
              "            '<a target=\"_blank\" href=https://colab.research.google.com/notebooks/data_table.ipynb>data table notebook</a>'\n",
              "            + ' to learn more about interactive tables.';\n",
              "          element.innerHTML = '';\n",
              "          dataTable['output_type'] = 'display_data';\n",
              "          await google.colab.output.renderOutput(dataTable, element);\n",
              "          const docLink = document.createElement('div');\n",
              "          docLink.innerHTML = docLinkHtml;\n",
              "          element.appendChild(docLink);\n",
              "        }\n",
              "      </script>\n",
              "    </div>\n",
              "  </div>\n",
              "  "
            ]
          },
          "metadata": {},
          "execution_count": 6
        }
      ],
      "source": [
        "from sklearn.feature_extraction.text import CountVectorizer\n",
        "from sklearn.model_selection import train_test_split\n",
        "stop_words = stopwords.words('indonesian')\n",
        "CountVectorizer = CountVectorizer(min_df=5, max_df=0.7, ngram_range = (1,5), stop_words=stop_words)\n",
        "df_vector = CountVectorizer.fit_transform(df.Tweet).toarray()\n",
        "df_vector = pd.DataFrame(df_vector)\n",
        "df_vector"
      ]
    },
    {
      "cell_type": "markdown",
      "source": [
        "# Predictions"
      ],
      "metadata": {
        "id": "pvdkmlek9zvI"
      }
    },
    {
      "cell_type": "code",
      "source": [
        "from sklearn.metrics import classification_report, confusion_matrix\n",
        "from sklearn.metrics import accuracy_score\n",
        "import seaborn as sn\n",
        "from sklearn.model_selection import KFold\n",
        "\n",
        "from sklearn.neural_network import MLPClassifier\n",
        "from sklearn.svm import SVC\n",
        "from sklearn.naive_bayes import MultinomialNB\n",
        "from sklearn.ensemble import VotingClassifier"
      ],
      "metadata": {
        "id": "tAG_et_l913N"
      },
      "execution_count": null,
      "outputs": []
    },
    {
      "cell_type": "markdown",
      "metadata": {
        "id": "ZrsKJpRKHOxE"
      },
      "source": [
        "k-fold Cross Validation"
      ]
    },
    {
      "cell_type": "code",
      "execution_count": null,
      "metadata": {
        "colab": {
          "base_uri": "https://localhost:8080/"
        },
        "outputId": "21be21ae-3cc2-4e48-9d55-a09946f9a945",
        "id": "PrI4wc46HOxK"
      },
      "outputs": [
        {
          "output_type": "execute_result",
          "data": {
            "text/plain": [
              "5"
            ]
          },
          "metadata": {},
          "execution_count": 20
        }
      ],
      "source": [
        "# K-Fold Cross Validation\n",
        "kf = KFold(n_splits=5, random_state=1, shuffle=True)\n",
        "kf.get_n_splits(df_vector)"
      ]
    },
    {
      "cell_type": "markdown",
      "source": [
        "## Default model"
      ],
      "metadata": {
        "id": "kJxPXenIAdfn"
      }
    },
    {
      "cell_type": "code",
      "source": [
        "clf1 = MLPClassifier(random_state=1)\n",
        "clf2 = SVC()\n",
        "clf3 = MultinomialNB()\n",
        "\n",
        "eclf1 = VotingClassifier(estimators=[('mlp', clf1), ('svc', clf2), ('mnb', clf3)], voting='hard')\n",
        "eclf1.get_params()"
      ],
      "metadata": {
        "colab": {
          "base_uri": "https://localhost:8080/"
        },
        "id": "lwGYx4kK_sSE",
        "outputId": "6ac26f78-ece5-47b0-c788-e0e7bd08c83a"
      },
      "execution_count": null,
      "outputs": [
        {
          "output_type": "execute_result",
          "data": {
            "text/plain": [
              "{'estimators': [('mlp', MLPClassifier(random_state=1)),\n",
              "  ('svc', SVC()),\n",
              "  ('mnb', MultinomialNB())],\n",
              " 'flatten_transform': True,\n",
              " 'mlp': MLPClassifier(random_state=1),\n",
              " 'mlp__activation': 'relu',\n",
              " 'mlp__alpha': 0.0001,\n",
              " 'mlp__batch_size': 'auto',\n",
              " 'mlp__beta_1': 0.9,\n",
              " 'mlp__beta_2': 0.999,\n",
              " 'mlp__early_stopping': False,\n",
              " 'mlp__epsilon': 1e-08,\n",
              " 'mlp__hidden_layer_sizes': (100,),\n",
              " 'mlp__learning_rate': 'constant',\n",
              " 'mlp__learning_rate_init': 0.001,\n",
              " 'mlp__max_fun': 15000,\n",
              " 'mlp__max_iter': 200,\n",
              " 'mlp__momentum': 0.9,\n",
              " 'mlp__n_iter_no_change': 10,\n",
              " 'mlp__nesterovs_momentum': True,\n",
              " 'mlp__power_t': 0.5,\n",
              " 'mlp__random_state': 1,\n",
              " 'mlp__shuffle': True,\n",
              " 'mlp__solver': 'adam',\n",
              " 'mlp__tol': 0.0001,\n",
              " 'mlp__validation_fraction': 0.1,\n",
              " 'mlp__verbose': False,\n",
              " 'mlp__warm_start': False,\n",
              " 'mnb': MultinomialNB(),\n",
              " 'mnb__alpha': 1.0,\n",
              " 'mnb__class_prior': None,\n",
              " 'mnb__fit_prior': True,\n",
              " 'n_jobs': None,\n",
              " 'svc': SVC(),\n",
              " 'svc__C': 1.0,\n",
              " 'svc__break_ties': False,\n",
              " 'svc__cache_size': 200,\n",
              " 'svc__class_weight': None,\n",
              " 'svc__coef0': 0.0,\n",
              " 'svc__decision_function_shape': 'ovr',\n",
              " 'svc__degree': 3,\n",
              " 'svc__gamma': 'scale',\n",
              " 'svc__kernel': 'rbf',\n",
              " 'svc__max_iter': -1,\n",
              " 'svc__probability': False,\n",
              " 'svc__random_state': None,\n",
              " 'svc__shrinking': True,\n",
              " 'svc__tol': 0.001,\n",
              " 'svc__verbose': False,\n",
              " 'verbose': False,\n",
              " 'voting': 'hard',\n",
              " 'weights': None}"
            ]
          },
          "metadata": {},
          "execution_count": 9
        }
      ]
    },
    {
      "cell_type": "code",
      "source": [
        "fold = 0\n",
        "acc = []\n",
        "\n",
        "for train_index, test_index in kf.split(df_vector):\n",
        "  fold += 1\n",
        "  print(f'{fold} Fold')\n",
        "  X_train, X_test = df_vector.iloc[train_index], df_vector.iloc[test_index]\n",
        "  y_train, y_test = Label[train_index], Label[test_index]\n",
        "\n",
        "  # Training Classifier Model\n",
        "  eclf1.fit(X_train,y_train)\n",
        "\n",
        "  # Melakukan Prediksi\n",
        "  y_predict = eclf1.predict(X_test)\n",
        "\n",
        "  # Membandingkan hasil Prediksi terhadap data asli\n",
        "  print(\"Classification Report\")\n",
        "  print(classification_report(y_test,y_predict))\n",
        "  print('Accuracy : ', accuracy_score(y_test,y_predict))\n",
        "  acc.append(accuracy_score(y_test,y_predict))\n",
        "\n",
        "  cnf_matrix = confusion_matrix(y_test,y_predict)\n",
        "  s = sn.heatmap(cnf_matrix/np.sum(cnf_matrix),\n",
        "            annot=True,\n",
        "            fmt='.2%',\n",
        "            xticklabels = ['HS', 'Non_HS'],\n",
        "            yticklabels = ['HS', 'Non_HS'],\n",
        "            );\n",
        "  s.set_xlabel('Predicted Label');\n",
        "  s.set_ylabel('True Label');\n",
        "  plt.show()\n",
        "  print('-'*100)\n",
        "\n",
        "print('='*100)\n",
        "print(f'{fold} Fold Validation Mean Accuracy')\n",
        "print('akurasi tertinggi : ',np.max(acc))\n",
        "print('akurasi terendah : ',np.min(acc))\n",
        "print('rata-rata akurasi : ',np.mean(acc))"
      ],
      "metadata": {
        "colab": {
          "base_uri": "https://localhost:8080/",
          "height": 471
        },
        "id": "vYhBXpIsAJNM",
        "outputId": "170ea54f-8bbf-4a24-8953-e14abaa2a6df"
      },
      "execution_count": null,
      "outputs": [
        {
          "output_type": "stream",
          "name": "stdout",
          "text": [
            "Classification Report\n",
            "              precision    recall  f1-score   support\n",
            "\n",
            "           0       1.00      0.92      0.96      3291\n",
            "           1       0.80      1.00      0.89      1142\n",
            "\n",
            "    accuracy                           0.94      4433\n",
            "   macro avg       0.90      0.96      0.92      4433\n",
            "weighted avg       0.95      0.94      0.94      4433\n",
            "\n",
            "Accuracy :  0.9375140988044214\n"
          ]
        },
        {
          "output_type": "display_data",
          "data": {
            "text/plain": [
              "<Figure size 432x288 with 2 Axes>"
            ],
            "image/png": "[encoded data removed]"
          },
          "metadata": {
            "needs_background": "light"
          }
        }
      ]
    },
    {
      "cell_type": "markdown",
      "source": [
        "## Parameter tuning"
      ],
      "metadata": {
        "id": "TMGny_R5Af5-"
      }
    },
    {
      "cell_type": "code",
      "source": [
        "from sklearn.model_selection import GridSearchCV\n",
        "\n",
        "parameters = {\n",
        "    'mlp__activation' : ['identity', 'logistic', 'tanh', 'relu'],\n",
        "    'mlp__solver' : ['lbfgs', 'sgd','adam'],\n",
        "    'mlp__learning_rate' : ['constant', 'invscaling', 'adaptive'],\n",
        "    'mlp__learning_rate_init' : [0.0001, 0.001, 0.01, 0.1, 1],\n",
        "    'svc__kernel': ['linear', 'rbf', 'poly', 'sigmoid'],\n",
        "    'svc__C':[0.01, 0.1, 1, 10],\n",
        "    'mnb__alpha':[0, 1, 2, 3],\n",
        "    'voting': ['hard', 'soft']\n",
        "    }\n",
        "\n",
        "clf1 = MLPClassifier(random_state=1)\n",
        "clf2 = SVC()\n",
        "clf3 = MultinomialNB()\n",
        "\n",
        "eclf1 = VotingClassifier(estimators=[('mlp', clf1), ('svc', clf2), ('mnb', clf3)], voting='hard')\n",
        "clf = GridSearchCV(eclf1, parameters, cv=2, verbose=6)\n",
        "clf.fit(df_vector, Label)"
      ],
      "metadata": {
        "colab": {
          "base_uri": "https://localhost:8080/"
        },
        "id": "0rZz6rGcAhRH",
        "outputId": "a64427bc-5b9d-4c14-a7ad-4b8212fee9ff"
      },
      "execution_count": null,
      "outputs": [
        {
          "output_type": "stream",
          "name": "stdout",
          "text": [
            "Fitting 2 folds for each of 4 candidates, totalling 8 fits\n",
            "[CV 1/2] END ..........mlp__activation=identity;, score=0.820 total time= 1.1min\n",
            "[CV 2/2] END ..........mlp__activation=identity;, score=0.584 total time=  18.2s\n",
            "[CV 1/2] END ..........mlp__activation=logistic;, score=0.818 total time= 1.1min\n",
            "[CV 2/2] END ..........mlp__activation=logistic;, score=0.583 total time=  29.9s\n",
            "[CV 1/2] END ..............mlp__activation=tanh;, score=0.820 total time= 1.1min\n",
            "[CV 2/2] END ..............mlp__activation=tanh;, score=0.584 total time=  19.1s\n",
            "[CV 1/2] END ..............mlp__activation=relu;, score=0.821 total time= 1.1min\n",
            "[CV 2/2] END ..............mlp__activation=relu;, score=0.584 total time=  18.3s\n"
          ]
        },
        {
          "output_type": "execute_result",
          "data": {
            "text/plain": [
              "GridSearchCV(cv=2,\n",
              "             estimator=VotingClassifier(estimators=[('mlp',\n",
              "                                                     MLPClassifier(random_state=1)),\n",
              "                                                    ('svc', SVC()),\n",
              "                                                    ('mnb', MultinomialNB())]),\n",
              "             param_grid={'mlp__activation': ['identity', 'logistic', 'tanh',\n",
              "                                             'relu']},\n",
              "             verbose=6)"
            ]
          },
          "metadata": {},
          "execution_count": 12
        }
      ]
    },
    {
      "cell_type": "code",
      "source": [
        "eclf1 = clf.best_estimator_\n",
        "clf.best_params_"
      ],
      "metadata": {
        "colab": {
          "base_uri": "https://localhost:8080/"
        },
        "id": "i4gFp5sZCauq",
        "outputId": "ec4d6c3f-c1d4-47e9-f208-b69e33492039"
      },
      "execution_count": null,
      "outputs": [
        {
          "output_type": "execute_result",
          "data": {
            "text/plain": [
              "{'mlp__activation': 'relu'}"
            ]
          },
          "metadata": {},
          "execution_count": 14
        }
      ]
    },
    {
      "cell_type": "code",
      "source": [
        "fold = 0\n",
        "acc = []\n",
        "\n",
        "for train_index, test_index in kf.split(df_vector):\n",
        "  fold += 1\n",
        "  print(f'{fold} Fold')\n",
        "  X_train, X_test = df_vector.iloc[train_index], df_vector.iloc[test_index]\n",
        "  y_train, y_test = Label[train_index], Label[test_index]\n",
        "\n",
        "  # Training Classifier Model\n",
        "  eclf1.fit(X_train,y_train)\n",
        "\n",
        "  # Melakukan Prediksi\n",
        "  y_predict = eclf1.predict(X_test)\n",
        "\n",
        "  # Membandingkan hasil Prediksi terhadap data asli\n",
        "  print(\"Classification Report\")\n",
        "  print(classification_report(y_test,y_predict))\n",
        "  print('Accuracy : ', accuracy_score(y_test,y_predict))\n",
        "  acc.append(accuracy_score(y_test,y_predict))\n",
        "\n",
        "  cnf_matrix = confusion_matrix(y_test,y_predict)\n",
        "  s = sn.heatmap(cnf_matrix/np.sum(cnf_matrix),\n",
        "            annot=True,\n",
        "            fmt='.2%',\n",
        "            xticklabels = ['HS', 'Non_HS'],\n",
        "            yticklabels = ['HS', 'Non_HS'],\n",
        "            );\n",
        "  s.set_xlabel('Predicted Label');\n",
        "  s.set_ylabel('True Label');\n",
        "  plt.show()\n",
        "  print('-'*100)\n",
        "\n",
        "print('='*100)\n",
        "print(f'{fold} Fold Validation Mean Accuracy')\n",
        "print('akurasi tertinggi : ',np.max(acc))\n",
        "print('akurasi terendah : ',np.min(acc))\n",
        "print('rata-rata akurasi : ',np.mean(acc))"
      ],
      "metadata": {
        "colab": {
          "base_uri": "https://localhost:8080/",
          "height": 1000
        },
        "outputId": "836b847d-edea-420f-e159-bf5bd0a8c779",
        "id": "WWnzpQgYCzWz"
      },
      "execution_count": null,
      "outputs": [
        {
          "output_type": "stream",
          "name": "stdout",
          "text": [
            "1 Fold\n",
            "Classification Report\n",
            "              precision    recall  f1-score   support\n",
            "\n",
            "           0       0.96      0.89      0.92       640\n",
            "           1       0.75      0.90      0.82       247\n",
            "\n",
            "    accuracy                           0.89       887\n",
            "   macro avg       0.86      0.89      0.87       887\n",
            "weighted avg       0.90      0.89      0.89       887\n",
            "\n",
            "Accuracy :  0.8895152198421646\n"
          ]
        },
        {
          "output_type": "display_data",
          "data": {
            "text/plain": [
              "<Figure size 432x288 with 2 Axes>"
            ],
            "image/png": "[encoded data removed]"
          },
          "metadata": {
            "needs_background": "light"
          }
        },
        {
          "output_type": "stream",
          "name": "stdout",
          "text": [
            "----------------------------------------------------------------------------------------------------\n",
            "2 Fold\n",
            "Classification Report\n",
            "              precision    recall  f1-score   support\n",
            "\n",
            "           0       0.97      0.87      0.92       658\n",
            "           1       0.71      0.93      0.81       229\n",
            "\n",
            "    accuracy                           0.89       887\n",
            "   macro avg       0.84      0.90      0.86       887\n",
            "weighted avg       0.90      0.89      0.89       887\n",
            "\n",
            "Accuracy :  0.8850056369785795\n"
          ]
        },
        {
          "output_type": "display_data",
          "data": {
            "text/plain": [
              "<Figure size 432x288 with 2 Axes>"
            ],
            "image/png": "[encoded data removed]"
          },
          "metadata": {
            "needs_background": "light"
          }
        },
        {
          "output_type": "stream",
          "name": "stdout",
          "text": [
            "----------------------------------------------------------------------------------------------------\n",
            "3 Fold\n",
            "Classification Report\n",
            "              precision    recall  f1-score   support\n",
            "\n",
            "           0       0.96      0.85      0.90       672\n",
            "           1       0.65      0.90      0.75       215\n",
            "\n",
            "    accuracy                           0.86       887\n",
            "   macro avg       0.81      0.87      0.83       887\n",
            "weighted avg       0.89      0.86      0.86       887\n",
            "\n",
            "Accuracy :  0.8579481397970687\n"
          ]
        },
        {
          "output_type": "display_data",
          "data": {
            "text/plain": [
              "<Figure size 432x288 with 2 Axes>"
            ],
            "image/png": "[encoded data removed]"
          },
          "metadata": {
            "needs_background": "light"
          }
        },
        {
          "output_type": "stream",
          "name": "stdout",
          "text": [
            "----------------------------------------------------------------------------------------------------\n",
            "4 Fold\n",
            "Classification Report\n",
            "              precision    recall  f1-score   support\n",
            "\n",
            "           0       0.97      0.87      0.92       656\n",
            "           1       0.71      0.93      0.80       230\n",
            "\n",
            "    accuracy                           0.88       886\n",
            "   macro avg       0.84      0.90      0.86       886\n",
            "weighted avg       0.90      0.88      0.89       886\n",
            "\n",
            "Accuracy :  0.8826185101580135\n"
          ]
        },
        {
          "output_type": "display_data",
          "data": {
            "text/plain": [
              "<Figure size 432x288 with 2 Axes>"
            ],
            "image/png": "[encoded data removed]"
          },
          "metadata": {
            "needs_background": "light"
          }
        },
        {
          "output_type": "stream",
          "name": "stdout",
          "text": [
            "----------------------------------------------------------------------------------------------------\n",
            "5 Fold\n",
            "Classification Report\n",
            "              precision    recall  f1-score   support\n",
            "\n",
            "           0       0.97      0.85      0.91       665\n",
            "           1       0.67      0.92      0.78       221\n",
            "\n",
            "    accuracy                           0.87       886\n",
            "   macro avg       0.82      0.89      0.84       886\n",
            "weighted avg       0.90      0.87      0.88       886\n",
            "\n",
            "Accuracy :  0.8690744920993227\n"
          ]
        },
        {
          "output_type": "display_data",
          "data": {
            "text/plain": [
              "<Figure size 432x288 with 2 Axes>"
            ],
            "image/png": "[encoded data removed]"
          },
          "metadata": {
            "needs_background": "light"
          }
        },
        {
          "output_type": "stream",
          "name": "stdout",
          "text": [
            "----------------------------------------------------------------------------------------------------\n",
            "====================================================================================================\n",
            "5 Fold Validation Mean Accuracy\n",
            "akurasi tertinggi :  0.8895152198421646\n",
            "akurasi terendah :  0.8579481397970687\n",
            "rata-rata akurasi :  0.8768323997750297\n"
          ]
        }
      ]
    },
    {
      "cell_type": "markdown",
      "metadata": {
        "id": "BQMdlYSmIHX4"
      },
      "source": [
        "# Predictions"
      ]
    },
    {
      "cell_type": "code",
      "execution_count": null,
      "metadata": {
        "id": "5VyVMIs0IHX4",
        "colab": {
          "base_uri": "https://localhost:8080/"
        },
        "outputId": "165fcf17-9890-4225-bd85-ab5ca4935d45"
      },
      "outputs": [
        {
          "output_type": "stream",
          "name": "stdout",
          "text": [
            "Looking in indexes: https://pypi.org/simple, https://us-python.pkg.dev/colab-wheels/public/simple/\n",
            "Collecting keras-tuner\n",
            "  Downloading keras_tuner-1.1.2-py3-none-any.whl (133 kB)\n",
            "\u001b[K     |████████████████████████████████| 133 kB 11.9 MB/s \n",
            "\u001b[?25hCollecting kt-legacy\n",
            "  Downloading kt_legacy-1.0.4-py3-none-any.whl (9.6 kB)\n",
            "Requirement already satisfied: tensorboard in /usr/local/lib/python3.7/dist-packages (from keras-tuner) (2.8.0)\n",
            "Requirement already satisfied: ipython in /usr/local/lib/python3.7/dist-packages (from keras-tuner) (5.5.0)\n",
            "Requirement already satisfied: numpy in /usr/local/lib/python3.7/dist-packages (from keras-tuner) (1.21.6)\n",
            "Requirement already satisfied: packaging in /usr/local/lib/python3.7/dist-packages (from keras-tuner) (21.3)\n",
            "Requirement already satisfied: requests in /usr/local/lib/python3.7/dist-packages (from keras-tuner) (2.23.0)\n",
            "Requirement already satisfied: simplegeneric>0.8 in /usr/local/lib/python3.7/dist-packages (from ipython->keras-tuner) (0.8.1)\n",
            "Requirement already satisfied: pygments in /usr/local/lib/python3.7/dist-packages (from ipython->keras-tuner) (2.6.1)\n",
            "Requirement already satisfied: pickleshare in /usr/local/lib/python3.7/dist-packages (from ipython->keras-tuner) (0.7.5)\n",
            "Requirement already satisfied: traitlets>=4.2 in /usr/local/lib/python3.7/dist-packages (from ipython->keras-tuner) (5.1.1)\n",
            "Requirement already satisfied: decorator in /usr/local/lib/python3.7/dist-packages (from ipython->keras-tuner) (4.4.2)\n",
            "Requirement already satisfied: pexpect in /usr/local/lib/python3.7/dist-packages (from ipython->keras-tuner) (4.8.0)\n",
            "Requirement already satisfied: prompt-toolkit<2.0.0,>=1.0.4 in /usr/local/lib/python3.7/dist-packages (from ipython->keras-tuner) (1.0.18)\n",
            "Requirement already satisfied: setuptools>=18.5 in /usr/local/lib/python3.7/dist-packages (from ipython->keras-tuner) (57.4.0)\n",
            "Requirement already satisfied: six>=1.9.0 in /usr/local/lib/python3.7/dist-packages (from prompt-toolkit<2.0.0,>=1.0.4->ipython->keras-tuner) (1.15.0)\n",
            "Requirement already satisfied: wcwidth in /usr/local/lib/python3.7/dist-packages (from prompt-toolkit<2.0.0,>=1.0.4->ipython->keras-tuner) (0.2.5)\n",
            "Requirement already satisfied: pyparsing!=3.0.5,>=2.0.2 in /usr/local/lib/python3.7/dist-packages (from packaging->keras-tuner) (3.0.9)\n",
            "Requirement already satisfied: ptyprocess>=0.5 in /usr/local/lib/python3.7/dist-packages (from pexpect->ipython->keras-tuner) (0.7.0)\n",
            "Requirement already satisfied: certifi>=2017.4.17 in /usr/local/lib/python3.7/dist-packages (from requests->keras-tuner) (2022.6.15)\n",
            "Requirement already satisfied: chardet<4,>=3.0.2 in /usr/local/lib/python3.7/dist-packages (from requests->keras-tuner) (3.0.4)\n",
            "Requirement already satisfied: urllib3!=1.25.0,!=1.25.1,<1.26,>=1.21.1 in /usr/local/lib/python3.7/dist-packages (from requests->keras-tuner) (1.24.3)\n",
            "Requirement already satisfied: idna<3,>=2.5 in /usr/local/lib/python3.7/dist-packages (from requests->keras-tuner) (2.10)\n",
            "Requirement already satisfied: werkzeug>=0.11.15 in /usr/local/lib/python3.7/dist-packages (from tensorboard->keras-tuner) (1.0.1)\n",
            "Requirement already satisfied: wheel>=0.26 in /usr/local/lib/python3.7/dist-packages (from tensorboard->keras-tuner) (0.37.1)\n",
            "Requirement already satisfied: tensorboard-data-server<0.7.0,>=0.6.0 in /usr/local/lib/python3.7/dist-packages (from tensorboard->keras-tuner) (0.6.1)\n",
            "Requirement already satisfied: absl-py>=0.4 in /usr/local/lib/python3.7/dist-packages (from tensorboard->keras-tuner) (1.1.0)\n",
            "Requirement already satisfied: tensorboard-plugin-wit>=1.6.0 in /usr/local/lib/python3.7/dist-packages (from tensorboard->keras-tuner) (1.8.1)\n",
            "Requirement already satisfied: grpcio>=1.24.3 in /usr/local/lib/python3.7/dist-packages (from tensorboard->keras-tuner) (1.46.3)\n",
            "Requirement already satisfied: google-auth-oauthlib<0.5,>=0.4.1 in /usr/local/lib/python3.7/dist-packages (from tensorboard->keras-tuner) (0.4.6)\n",
            "Requirement already satisfied: protobuf>=3.6.0 in /usr/local/lib/python3.7/dist-packages (from tensorboard->keras-tuner) (3.17.3)\n",
            "Requirement already satisfied: google-auth<3,>=1.6.3 in /usr/local/lib/python3.7/dist-packages (from tensorboard->keras-tuner) (1.35.0)\n",
            "Requirement already satisfied: markdown>=2.6.8 in /usr/local/lib/python3.7/dist-packages (from tensorboard->keras-tuner) (3.3.7)\n",
            "Requirement already satisfied: rsa<5,>=3.1.4 in /usr/local/lib/python3.7/dist-packages (from google-auth<3,>=1.6.3->tensorboard->keras-tuner) (4.8)\n",
            "Requirement already satisfied: pyasn1-modules>=0.2.1 in /usr/local/lib/python3.7/dist-packages (from google-auth<3,>=1.6.3->tensorboard->keras-tuner) (0.2.8)\n",
            "Requirement already satisfied: cachetools<5.0,>=2.0.0 in /usr/local/lib/python3.7/dist-packages (from google-auth<3,>=1.6.3->tensorboard->keras-tuner) (4.2.4)\n",
            "Requirement already satisfied: requests-oauthlib>=0.7.0 in /usr/local/lib/python3.7/dist-packages (from google-auth-oauthlib<0.5,>=0.4.1->tensorboard->keras-tuner) (1.3.1)\n",
            "Requirement already satisfied: importlib-metadata>=4.4 in /usr/local/lib/python3.7/dist-packages (from markdown>=2.6.8->tensorboard->keras-tuner) (4.11.4)\n",
            "Requirement already satisfied: zipp>=0.5 in /usr/local/lib/python3.7/dist-packages (from importlib-metadata>=4.4->markdown>=2.6.8->tensorboard->keras-tuner) (3.8.0)\n",
            "Requirement already satisfied: typing-extensions>=3.6.4 in /usr/local/lib/python3.7/dist-packages (from importlib-metadata>=4.4->markdown>=2.6.8->tensorboard->keras-tuner) (4.1.1)\n",
            "Requirement already satisfied: pyasn1<0.5.0,>=0.4.6 in /usr/local/lib/python3.7/dist-packages (from pyasn1-modules>=0.2.1->google-auth<3,>=1.6.3->tensorboard->keras-tuner) (0.4.8)\n",
            "Requirement already satisfied: oauthlib>=3.0.0 in /usr/local/lib/python3.7/dist-packages (from requests-oauthlib>=0.7.0->google-auth-oauthlib<0.5,>=0.4.1->tensorboard->keras-tuner) (3.2.0)\n",
            "Installing collected packages: kt-legacy, keras-tuner\n",
            "Successfully installed keras-tuner-1.1.2 kt-legacy-1.0.4\n"
          ]
        }
      ],
      "source": [
        "from sklearn.metrics import classification_report, confusion_matrix\n",
        "from sklearn.metrics import accuracy_score\n",
        "import seaborn as sn\n",
        "from sklearn.model_selection import KFold\n",
        "\n",
        "from keras.models import Model\n",
        "from keras.layers import Input\n",
        "from keras.layers import Dense\n",
        "from keras.layers import Flatten\n",
        "from keras.layers.merge import concatenate\n",
        "from keras.layers.recurrent import LSTM\n",
        "import tensorflow as tf\n",
        "from sklearn.preprocessing import OneHotEncoder\n",
        "\n",
        "!pip install keras-tuner --upgrade\n",
        "import keras_tuner as kt"
      ]
    },
    {
      "cell_type": "markdown",
      "metadata": {
        "id": "NwBZNQ9I0Bap"
      },
      "source": [
        "k-fold Cross Validation"
      ]
    },
    {
      "cell_type": "code",
      "execution_count": null,
      "metadata": {
        "colab": {
          "base_uri": "https://localhost:8080/"
        },
        "id": "9IYsAiLT8uld",
        "outputId": "e72b6b1c-fbf3-43cb-aaa6-d1b60620e68c"
      },
      "outputs": [
        {
          "output_type": "execute_result",
          "data": {
            "text/plain": [
              "5"
            ]
          },
          "metadata": {},
          "execution_count": 8
        }
      ],
      "source": [
        "# K-Fold Cross Validation\n",
        "kf = KFold(n_splits=5, random_state=1, shuffle=True)\n",
        "kf.get_n_splits(df_vector)"
      ]
    },
    {
      "cell_type": "markdown",
      "metadata": {
        "id": "JVQTd0wzqwEM"
      },
      "source": [
        "## MLP Classifier ( Baseline )\n",
        "\n",
        "![image.png](data:image/png;base64,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)\n",
        "\n",
        "Multilayer Perceptron Graph"
      ]
    },
    {
      "cell_type": "markdown",
      "source": [
        "### Parameter Tuning menggunakan Keras Tuner"
      ],
      "metadata": {
        "id": "PSe3Yz9FcKmk"
      }
    },
    {
      "cell_type": "code",
      "source": [
        "def build_model(hp):\n",
        "  # Definisi Classifier\n",
        "  visible = Input(shape=(df_vector.shape[1],))\n",
        "  hidden1 = Dense(hp.Choice('units', [8, 16, 32, 64, 128]), activation='relu')(visible)\n",
        "  hidden2 = Dense(hp.Choice('units', [8, 16, 32, 64, 128]), activation='relu')(hidden1)\n",
        "  hidden3 = Dense(hp.Choice('units', [8, 16, 32, 64, 128]), activation='relu')(hidden2)\n",
        "  output = Dense(2, activation='sigmoid')(hidden3)\n",
        "  model = Model(inputs=visible, outputs=output)\n",
        "  model.compile(\n",
        "      loss = tf.keras.losses.BinaryCrossentropy(),\n",
        "      optimizer = tf.keras.optimizers.Adam(1e-4),\n",
        "      metrics = ['accuracy']\n",
        "  )\n",
        "  return model"
      ],
      "metadata": {
        "id": "k7P27aaBcISO"
      },
      "execution_count": null,
      "outputs": []
    },
    {
      "cell_type": "code",
      "source": [
        "tuner = kt.RandomSearch(\n",
        "    build_model,\n",
        "    objective='val_accuracy',\n",
        "    directory=\"MLP\",\n",
        "    max_trials=100)"
      ],
      "metadata": {
        "id": "NVOwpCcddJPM"
      },
      "execution_count": null,
      "outputs": []
    },
    {
      "cell_type": "code",
      "source": [
        "y = OneHotEncoder(sparse=False)\n",
        "labels = pd.DataFrame(y.fit_transform(Label.reshape(-1, 1)))\n",
        "\n",
        "tuner.search(df_vector, labels, epochs=10, validation_data=(df_vector, labels))\n",
        "best_model = tuner.get_best_models()[0]"
      ],
      "metadata": {
        "colab": {
          "base_uri": "https://localhost:8080/"
        },
        "id": "FP_ptKzWdLmx",
        "outputId": "2caf44e9-97cd-47e1-aa6b-f068da22c19c"
      },
      "execution_count": null,
      "outputs": [
        {
          "output_type": "stream",
          "name": "stdout",
          "text": [
            "Trial 5 Complete [00h 00m 09s]\n",
            "val_accuracy: 0.981953501701355\n",
            "\n",
            "Best val_accuracy So Far: 0.981953501701355\n",
            "Total elapsed time: 00h 01m 22s\n",
            "INFO:tensorflow:Oracle triggered exit\n"
          ]
        }
      ]
    },
    {
      "cell_type": "code",
      "execution_count": null,
      "metadata": {
        "colab": {
          "base_uri": "https://localhost:8080/",
          "height": 1000
        },
        "id": "lq6r6kJCgH8R",
        "outputId": "50cb0d7c-d9b8-4bc3-b700-ce8ff3b9c6f6"
      },
      "outputs": [
        {
          "output_type": "stream",
          "name": "stdout",
          "text": [
            "1 Fold\n",
            "Epoch 1/5\n",
            "111/111 [==============================] - 1s 3ms/step - loss: 0.0586 - accuracy: 0.9805\n",
            "Epoch 2/5\n",
            "111/111 [==============================] - 0s 3ms/step - loss: 0.0478 - accuracy: 0.9851\n",
            "Epoch 3/5\n",
            "111/111 [==============================] - 0s 3ms/step - loss: 0.0390 - accuracy: 0.9873\n",
            "Epoch 4/5\n",
            "111/111 [==============================] - 0s 4ms/step - loss: 0.0316 - accuracy: 0.9910\n",
            "Epoch 5/5\n",
            "111/111 [==============================] - 0s 4ms/step - loss: 0.0264 - accuracy: 0.9924\n",
            "Classification Report\n",
            "              precision    recall  f1-score   support\n",
            "\n",
            "           0       0.97      0.98      0.97       640\n",
            "           1       0.94      0.92      0.93       247\n",
            "\n",
            "    accuracy                           0.96       887\n",
            "   macro avg       0.96      0.95      0.95       887\n",
            "weighted avg       0.96      0.96      0.96       887\n",
            "\n",
            "Accuracy :  0.9627959413754228\n"
          ]
        },
        {
          "output_type": "display_data",
          "data": {
            "text/plain": [
              "<Figure size 432x288 with 2 Axes>"
            ],
            "image/png": "[encoded data removed]"
          },
          "metadata": {
            "needs_background": "light"
          }
        },
        {
          "output_type": "stream",
          "name": "stdout",
          "text": [
            "----------------------------------------------------------------------------------------------------\n",
            "2 Fold\n",
            "Epoch 1/5\n",
            "111/111 [==============================] - 0s 3ms/step - loss: 0.0430 - accuracy: 0.9859\n",
            "Epoch 2/5\n",
            "111/111 [==============================] - 0s 3ms/step - loss: 0.0327 - accuracy: 0.9898\n",
            "Epoch 3/5\n",
            "111/111 [==============================] - 0s 3ms/step - loss: 0.0274 - accuracy: 0.9932\n",
            "Epoch 4/5\n",
            "111/111 [==============================] - 0s 3ms/step - loss: 0.0239 - accuracy: 0.9927\n",
            "Epoch 5/5\n",
            "111/111 [==============================] - 0s 4ms/step - loss: 0.0221 - accuracy: 0.9941\n",
            "Classification Report\n",
            "              precision    recall  f1-score   support\n",
            "\n",
            "           0       1.00      0.99      0.99       658\n",
            "           1       0.97      0.99      0.98       229\n",
            "\n",
            "    accuracy                           0.99       887\n",
            "   macro avg       0.98      0.99      0.99       887\n",
            "weighted avg       0.99      0.99      0.99       887\n",
            "\n",
            "Accuracy :  0.9887260428410372\n"
          ]
        },
        {
          "output_type": "display_data",
          "data": {
            "text/plain": [
              "<Figure size 432x288 with 2 Axes>"
            ],
            "image/png": "[encoded data removed]"
          },
          "metadata": {
            "needs_background": "light"
          }
        },
        {
          "output_type": "stream",
          "name": "stdout",
          "text": [
            "----------------------------------------------------------------------------------------------------\n",
            "3 Fold\n",
            "Epoch 1/5\n",
            "111/111 [==============================] - 0s 3ms/step - loss: 0.0239 - accuracy: 0.9932\n",
            "Epoch 2/5\n",
            "111/111 [==============================] - 0s 3ms/step - loss: 0.0223 - accuracy: 0.9938\n",
            "Epoch 3/5\n",
            "111/111 [==============================] - 0s 3ms/step - loss: 0.0171 - accuracy: 0.9955\n",
            "Epoch 4/5\n",
            "111/111 [==============================] - 0s 3ms/step - loss: 0.0158 - accuracy: 0.9955\n",
            "Epoch 5/5\n",
            "111/111 [==============================] - 0s 3ms/step - loss: 0.0146 - accuracy: 0.9961\n",
            "Classification Report\n",
            "              precision    recall  f1-score   support\n",
            "\n",
            "           0       1.00      0.99      0.99       672\n",
            "           1       0.97      1.00      0.98       215\n",
            "\n",
            "    accuracy                           0.99       887\n",
            "   macro avg       0.99      0.99      0.99       887\n",
            "weighted avg       0.99      0.99      0.99       887\n",
            "\n",
            "Accuracy :  0.992108229988726\n"
          ]
        },
        {
          "output_type": "display_data",
          "data": {
            "text/plain": [
              "<Figure size 432x288 with 2 Axes>"
            ],
            "image/png": "[encoded data removed]"
          },
          "metadata": {
            "needs_background": "light"
          }
        },
        {
          "output_type": "stream",
          "name": "stdout",
          "text": [
            "----------------------------------------------------------------------------------------------------\n",
            "4 Fold\n",
            "Epoch 1/5\n",
            "111/111 [==============================] - 0s 3ms/step - loss: 0.0199 - accuracy: 0.9938\n",
            "Epoch 2/5\n",
            "111/111 [==============================] - 0s 3ms/step - loss: 0.0156 - accuracy: 0.9958\n",
            "Epoch 3/5\n",
            "111/111 [==============================] - 0s 3ms/step - loss: 0.0157 - accuracy: 0.9958\n",
            "Epoch 4/5\n",
            "111/111 [==============================] - 0s 3ms/step - loss: 0.0143 - accuracy: 0.9958\n",
            "Epoch 5/5\n",
            "111/111 [==============================] - 0s 3ms/step - loss: 0.0132 - accuracy: 0.9966\n",
            "Classification Report\n",
            "              precision    recall  f1-score   support\n",
            "\n",
            "           0       1.00      1.00      1.00       656\n",
            "           1       0.99      0.99      0.99       230\n",
            "\n",
            "    accuracy                           1.00       886\n",
            "   macro avg       0.99      0.99      0.99       886\n",
            "weighted avg       1.00      1.00      1.00       886\n",
            "\n",
            "Accuracy :  0.9954853273137697\n"
          ]
        },
        {
          "output_type": "display_data",
          "data": {
            "text/plain": [
              "<Figure size 432x288 with 2 Axes>"
            ],
            "image/png": "[encoded data removed]"
          },
          "metadata": {
            "needs_background": "light"
          }
        },
        {
          "output_type": "stream",
          "name": "stdout",
          "text": [
            "----------------------------------------------------------------------------------------------------\n",
            "5 Fold\n",
            "Epoch 1/5\n",
            "111/111 [==============================] - 0s 3ms/step - loss: 0.0172 - accuracy: 0.9944\n",
            "Epoch 2/5\n",
            "111/111 [==============================] - 0s 3ms/step - loss: 0.0123 - accuracy: 0.9955\n",
            "Epoch 3/5\n",
            "111/111 [==============================] - 0s 4ms/step - loss: 0.0117 - accuracy: 0.9946\n",
            "Epoch 4/5\n",
            "111/111 [==============================] - 0s 3ms/step - loss: 0.0116 - accuracy: 0.9952\n",
            "Epoch 5/5\n",
            "111/111 [==============================] - 0s 3ms/step - loss: 0.0103 - accuracy: 0.9958\n",
            "Classification Report\n",
            "              precision    recall  f1-score   support\n",
            "\n",
            "           0       1.00      1.00      1.00       665\n",
            "           1       0.99      1.00      0.99       221\n",
            "\n",
            "    accuracy                           1.00       886\n",
            "   macro avg       0.99      1.00      1.00       886\n",
            "weighted avg       1.00      1.00      1.00       886\n",
            "\n",
            "Accuracy :  0.9966139954853274\n"
          ]
        },
        {
          "output_type": "display_data",
          "data": {
            "text/plain": [
              "<Figure size 432x288 with 2 Axes>"
            ],
            "image/png": "[encoded data removed]"
          },
          "metadata": {
            "needs_background": "light"
          }
        },
        {
          "output_type": "stream",
          "name": "stdout",
          "text": [
            "----------------------------------------------------------------------------------------------------\n",
            "====================================================================================================\n",
            "5 Fold Validation Mean Accuracy\n",
            "akurasi tertinggi :  0.9966139954853274\n",
            "akurasi terendah :  0.9627959413754228\n",
            "rata-rata akurasi :  0.9871459074008566\n"
          ]
        }
      ],
      "source": [
        "fold = 0\n",
        "acc = []\n",
        "\n",
        "for train_index, test_index in kf.split(df_vector):\n",
        "  fold += 1\n",
        "  print(f'{fold} Fold')\n",
        "  y = OneHotEncoder(sparse=False)\n",
        "  labels = pd.DataFrame(y.fit_transform(Label.reshape(-1, 1)))\n",
        "  X_train, X_test = df_vector.iloc[train_index], df_vector.iloc[test_index]\n",
        "  y_train, y_test = labels.iloc[train_index], Label[test_index]\n",
        "\n",
        "  # Training Classifier Model\n",
        "  best_model.fit(X_train,y_train, epochs=5)\n",
        "\n",
        "  # Melakukan Prediksi\n",
        "  y_predict = np.argmax(best_model.predict(X_test),axis=1)\n",
        "\n",
        "  # Membandingkan hasil Prediksi terhadap data asli\n",
        "  print(\"Classification Report\")\n",
        "  print(classification_report(y_test,y_predict))\n",
        "  print('Accuracy : ', accuracy_score(y_test,y_predict))\n",
        "  acc.append(accuracy_score(y_test,y_predict))\n",
        "\n",
        "  cnf_matrix = confusion_matrix(y_test,y_predict)\n",
        "  s = sn.heatmap(cnf_matrix/np.sum(cnf_matrix),\n",
        "            annot=True,\n",
        "            fmt='.2%',\n",
        "            xticklabels = ['HS', 'Non_HS'],\n",
        "            yticklabels = ['HS', 'Non_HS'],\n",
        "            );\n",
        "  s.set_xlabel('Predicted Label');\n",
        "  s.set_ylabel('True Label');\n",
        "  plt.show()\n",
        "  print('-'*100)\n",
        "\n",
        "print('='*100)\n",
        "print(f'{fold} Fold Validation Mean Accuracy')\n",
        "print('akurasi tertinggi : ',np.max(acc))\n",
        "print('akurasi terendah : ',np.min(acc))\n",
        "print('rata-rata akurasi : ',np.mean(acc))"
      ]
    },
    {
      "cell_type": "markdown",
      "source": [
        "### Parameter Tuning Manual"
      ],
      "metadata": {
        "id": "DhS3bIiQY3No"
      }
    },
    {
      "cell_type": "markdown",
      "source": [
        "#### Unit Tuning"
      ],
      "metadata": {
        "id": "2UUHJbuHZFE0"
      }
    },
    {
      "cell_type": "markdown",
      "source": [
        "##### Unit = 8"
      ],
      "metadata": {
        "id": "fjxLIV6JZIXc"
      }
    },
    {
      "cell_type": "code",
      "source": [
        "def build_model():\n",
        "  # Definisi Classifier\n",
        "  visible = Input(shape=(df_vector.shape[1],))\n",
        "  hidden1 = Dense(8, activation='relu')(visible)\n",
        "  hidden2 = Dense(8, activation='relu')(hidden1)\n",
        "  hidden3 = Dense(8, activation='relu')(hidden2)\n",
        "  output = Dense(2, activation='sigmoid')(hidden3)\n",
        "  model = Model(inputs=visible, outputs=output)\n",
        "  model.compile(\n",
        "      loss = tf.keras.losses.BinaryCrossentropy(),\n",
        "      optimizer = tf.keras.optimizers.Adam(1e-4),\n",
        "      metrics = ['accuracy']\n",
        "  )\n",
        "  return model"
      ],
      "metadata": {
        "id": "V0rg3m17Y4-j"
      },
      "execution_count": null,
      "outputs": []
    },
    {
      "cell_type": "code",
      "source": [
        "fold = 0\n",
        "acc = []\n",
        "best_model = build_model()\n",
        "for train_index, test_index in kf.split(df_vector):\n",
        "  fold += 1\n",
        "  print(f'{fold} Fold')\n",
        "  y = OneHotEncoder(sparse=False)\n",
        "  labels = pd.DataFrame(y.fit_transform(Label.reshape(-1, 1)))\n",
        "  X_train, X_test = df_vector.iloc[train_index], df_vector.iloc[test_index]\n",
        "  y_train, y_test = labels.iloc[train_index], Label[test_index]\n",
        "\n",
        "  # Training Classifier Model\n",
        "  best_model.fit(X_train,y_train, epochs=5)\n",
        "\n",
        "  # Melakukan Prediksi\n",
        "  y_predict = np.argmax(best_model.predict(X_test),axis=1)\n",
        "\n",
        "  # Membandingkan hasil Prediksi terhadap data asli\n",
        "  print(\"Classification Report\")\n",
        "  print(classification_report(y_test,y_predict))\n",
        "  print('Accuracy : ', accuracy_score(y_test,y_predict))\n",
        "  acc.append(accuracy_score(y_test,y_predict))\n",
        "\n",
        "  cnf_matrix = confusion_matrix(y_test,y_predict)\n",
        "  s = sn.heatmap(cnf_matrix/np.sum(cnf_matrix),\n",
        "            annot=True,\n",
        "            fmt='.2%',\n",
        "            xticklabels = ['HS', 'Non_HS'],\n",
        "            yticklabels = ['HS', 'Non_HS'],\n",
        "            );\n",
        "  s.set_xlabel('Predicted Label');\n",
        "  s.set_ylabel('True Label');\n",
        "  plt.show()\n",
        "  print('-'*100)\n",
        "\n",
        "print('='*100)\n",
        "print(f'{fold} Fold Validation Mean Accuracy')\n",
        "print('akurasi tertinggi : ',np.max(acc))\n",
        "print('akurasi terendah : ',np.min(acc))\n",
        "print('rata-rata akurasi : ',np.mean(acc))"
      ],
      "metadata": {
        "id": "c2LZqAwKY8r6",
        "colab": {
          "base_uri": "https://localhost:8080/",
          "height": 252
        },
        "outputId": "81c30e64-2a32-445e-c254-aa5e99256792"
      },
      "execution_count": null,
      "outputs": [
        {
          "output_type": "stream",
          "name": "stdout",
          "text": [
            "1 Fold\n"
          ]
        },
        {
          "output_type": "error",
          "ename": "AttributeError",
          "evalue": "ignored",
          "traceback": [
            "\u001b[0;31m---------------------------------------------------------------------------\u001b[0m",
            "\u001b[0;31mAttributeError\u001b[0m                            Traceback (most recent call last)",
            "\u001b[0;32m<ipython-input-14-833c3e7a9f9e>\u001b[0m in \u001b[0;36m<module>\u001b[0;34m()\u001b[0m\n\u001b[1;32m     11\u001b[0m \u001b[0;34m\u001b[0m\u001b[0m\n\u001b[1;32m     12\u001b[0m   \u001b[0;31m# Training Classifier Model\u001b[0m\u001b[0;34m\u001b[0m\u001b[0;34m\u001b[0m\u001b[0;34m\u001b[0m\u001b[0m\n\u001b[0;32m---> 13\u001b[0;31m   \u001b[0mbest_model\u001b[0m\u001b[0;34m.\u001b[0m\u001b[0mfit\u001b[0m\u001b[0;34m(\u001b[0m\u001b[0mX_train\u001b[0m\u001b[0;34m,\u001b[0m\u001b[0my_train\u001b[0m\u001b[0;34m,\u001b[0m \u001b[0mepochs\u001b[0m\u001b[0;34m=\u001b[0m\u001b[0;36m5\u001b[0m\u001b[0;34m)\u001b[0m\u001b[0;34m\u001b[0m\u001b[0;34m\u001b[0m\u001b[0m\n\u001b[0m\u001b[1;32m     14\u001b[0m \u001b[0;34m\u001b[0m\u001b[0m\n\u001b[1;32m     15\u001b[0m   \u001b[0;31m# Melakukan Prediksi\u001b[0m\u001b[0;34m\u001b[0m\u001b[0;34m\u001b[0m\u001b[0;34m\u001b[0m\u001b[0m\n",
            "\u001b[0;31mAttributeError\u001b[0m: 'function' object has no attribute 'fit'"
          ]
        }
      ]
    },
    {
      "cell_type": "markdown",
      "source": [
        "##### Unit = 16"
      ],
      "metadata": {
        "id": "7YgMkTAWZYea"
      }
    },
    {
      "cell_type": "code",
      "source": [
        "def build_model():\n",
        "  # Definisi Classifier\n",
        "  visible = Input(shape=(df_vector.shape[1],))\n",
        "  hidden1 = Dense(16, activation='relu')(visible)\n",
        "  hidden2 = Dense(16, activation='relu')(hidden1)\n",
        "  hidden3 = Dense(16, activation='relu')(hidden2)\n",
        "  output = Dense(2, activation='sigmoid')(hidden3)\n",
        "  model = Model(inputs=visible, outputs=output)\n",
        "  model.compile(\n",
        "      loss = tf.keras.losses.BinaryCrossentropy(),\n",
        "      optimizer = tf.keras.optimizers.Adam(1e-4),\n",
        "      metrics = ['accuracy']\n",
        "  )\n",
        "  return model"
      ],
      "metadata": {
        "id": "_oCDye0dZYek"
      },
      "execution_count": null,
      "outputs": []
    },
    {
      "cell_type": "code",
      "source": [
        "fold = 0\n",
        "acc = []\n",
        "best_model = build_model()\n",
        "for train_index, test_index in kf.split(df_vector):\n",
        "  fold += 1\n",
        "  print(f'{fold} Fold')\n",
        "  y = OneHotEncoder(sparse=False)\n",
        "  labels = pd.DataFrame(y.fit_transform(Label.reshape(-1, 1)))\n",
        "  X_train, X_test = df_vector.iloc[train_index], df_vector.iloc[test_index]\n",
        "  y_train, y_test = labels.iloc[train_index], Label[test_index]\n",
        "\n",
        "  # Training Classifier Model\n",
        "  best_model.fit(X_train,y_train, epochs=5)\n",
        "\n",
        "  # Melakukan Prediksi\n",
        "  y_predict = np.argmax(best_model.predict(X_test),axis=1)\n",
        "\n",
        "  # Membandingkan hasil Prediksi terhadap data asli\n",
        "  print(\"Classification Report\")\n",
        "  print(classification_report(y_test,y_predict))\n",
        "  print('Accuracy : ', accuracy_score(y_test,y_predict))\n",
        "  acc.append(accuracy_score(y_test,y_predict))\n",
        "\n",
        "  cnf_matrix = confusion_matrix(y_test,y_predict)\n",
        "  s = sn.heatmap(cnf_matrix/np.sum(cnf_matrix),\n",
        "            annot=True,\n",
        "            fmt='.2%',\n",
        "            xticklabels = ['HS', 'Non_HS'],\n",
        "            yticklabels = ['HS', 'Non_HS'],\n",
        "            );\n",
        "  s.set_xlabel('Predicted Label');\n",
        "  s.set_ylabel('True Label');\n",
        "  plt.show()\n",
        "  print('-'*100)\n",
        "\n",
        "print('='*100)\n",
        "print(f'{fold} Fold Validation Mean Accuracy')\n",
        "print('akurasi tertinggi : ',np.max(acc))\n",
        "print('akurasi terendah : ',np.min(acc))\n",
        "print('rata-rata akurasi : ',np.mean(acc))"
      ],
      "metadata": {
        "id": "BlU0tCB5ZYek"
      },
      "execution_count": null,
      "outputs": []
    },
    {
      "cell_type": "markdown",
      "source": [
        "##### Unit = 32"
      ],
      "metadata": {
        "id": "yqZo1YwXZiWU"
      }
    },
    {
      "cell_type": "code",
      "source": [
        "def build_model():\n",
        "  # Definisi Classifier\n",
        "  visible = Input(shape=(df_vector.shape[1],))\n",
        "  hidden1 = Dense(32, activation='relu')(visible)\n",
        "  hidden2 = Dense(32, activation='relu')(hidden1)\n",
        "  hidden3 = Dense(32, activation='relu')(hidden2)\n",
        "  output = Dense(2, activation='sigmoid')(hidden3)\n",
        "  model = Model(inputs=visible, outputs=output)\n",
        "  model.compile(\n",
        "      loss = tf.keras.losses.BinaryCrossentropy(),\n",
        "      optimizer = tf.keras.optimizers.Adam(1e-4),\n",
        "      metrics = ['accuracy']\n",
        "  )\n",
        "  return model"
      ],
      "metadata": {
        "id": "wsau2AOcZiWc"
      },
      "execution_count": null,
      "outputs": []
    },
    {
      "cell_type": "code",
      "source": [
        "fold = 0\n",
        "acc = []\n",
        "best_model = build_model()\n",
        "for train_index, test_index in kf.split(df_vector):\n",
        "  fold += 1\n",
        "  print(f'{fold} Fold')\n",
        "  y = OneHotEncoder(sparse=False)\n",
        "  labels = pd.DataFrame(y.fit_transform(Label.reshape(-1, 1)))\n",
        "  X_train, X_test = df_vector.iloc[train_index], df_vector.iloc[test_index]\n",
        "  y_train, y_test = labels.iloc[train_index], Label[test_index]\n",
        "\n",
        "  # Training Classifier Model\n",
        "  best_model.fit(X_train,y_train, epochs=5)\n",
        "\n",
        "  # Melakukan Prediksi\n",
        "  y_predict = np.argmax(best_model.predict(X_test),axis=1)\n",
        "\n",
        "  # Membandingkan hasil Prediksi terhadap data asli\n",
        "  print(\"Classification Report\")\n",
        "  print(classification_report(y_test,y_predict))\n",
        "  print('Accuracy : ', accuracy_score(y_test,y_predict))\n",
        "  acc.append(accuracy_score(y_test,y_predict))\n",
        "\n",
        "  cnf_matrix = confusion_matrix(y_test,y_predict)\n",
        "  s = sn.heatmap(cnf_matrix/np.sum(cnf_matrix),\n",
        "            annot=True,\n",
        "            fmt='.2%',\n",
        "            xticklabels = ['HS', 'Non_HS'],\n",
        "            yticklabels = ['HS', 'Non_HS'],\n",
        "            );\n",
        "  s.set_xlabel('Predicted Label');\n",
        "  s.set_ylabel('True Label');\n",
        "  plt.show()\n",
        "  print('-'*100)\n",
        "\n",
        "print('='*100)\n",
        "print(f'{fold} Fold Validation Mean Accuracy')\n",
        "print('akurasi tertinggi : ',np.max(acc))\n",
        "print('akurasi terendah : ',np.min(acc))\n",
        "print('rata-rata akurasi : ',np.mean(acc))"
      ],
      "metadata": {
        "id": "Lq9Di8mYZiWc"
      },
      "execution_count": null,
      "outputs": []
    },
    {
      "cell_type": "markdown",
      "source": [
        "##### Unit = 64"
      ],
      "metadata": {
        "id": "cxbAi-CzZlz5"
      }
    },
    {
      "cell_type": "code",
      "source": [
        "def build_model():\n",
        "  # Definisi Classifier\n",
        "  visible = Input(shape=(df_vector.shape[1],))\n",
        "  hidden1 = Dense(64, activation='relu')(visible)\n",
        "  hidden2 = Dense(64, activation='relu')(hidden1)\n",
        "  hidden3 = Dense(64, activation='relu')(hidden2)\n",
        "  output = Dense(2, activation='sigmoid')(hidden3)\n",
        "  model = Model(inputs=visible, outputs=output)\n",
        "  model.compile(\n",
        "      loss = tf.keras.losses.BinaryCrossentropy(),\n",
        "      optimizer = tf.keras.optimizers.Adam(1e-4),\n",
        "      metrics = ['accuracy']\n",
        "  )\n",
        "  return model"
      ],
      "metadata": {
        "id": "iGBe4Xg3Zlz6"
      },
      "execution_count": null,
      "outputs": []
    },
    {
      "cell_type": "code",
      "source": [
        "fold = 0\n",
        "acc = []\n",
        "best_model = build_model()\n",
        "for train_index, test_index in kf.split(df_vector):\n",
        "  fold += 1\n",
        "  print(f'{fold} Fold')\n",
        "  y = OneHotEncoder(sparse=False)\n",
        "  labels = pd.DataFrame(y.fit_transform(Label.reshape(-1, 1)))\n",
        "  X_train, X_test = df_vector.iloc[train_index], df_vector.iloc[test_index]\n",
        "  y_train, y_test = labels.iloc[train_index], Label[test_index]\n",
        "\n",
        "  # Training Classifier Model\n",
        "  best_model.fit(X_train,y_train, epochs=5)\n",
        "\n",
        "  # Melakukan Prediksi\n",
        "  y_predict = np.argmax(best_model.predict(X_test),axis=1)\n",
        "\n",
        "  # Membandingkan hasil Prediksi terhadap data asli\n",
        "  print(\"Classification Report\")\n",
        "  print(classification_report(y_test,y_predict))\n",
        "  print('Accuracy : ', accuracy_score(y_test,y_predict))\n",
        "  acc.append(accuracy_score(y_test,y_predict))\n",
        "\n",
        "  cnf_matrix = confusion_matrix(y_test,y_predict)\n",
        "  s = sn.heatmap(cnf_matrix/np.sum(cnf_matrix),\n",
        "            annot=True,\n",
        "            fmt='.2%',\n",
        "            xticklabels = ['HS', 'Non_HS'],\n",
        "            yticklabels = ['HS', 'Non_HS'],\n",
        "            );\n",
        "  s.set_xlabel('Predicted Label');\n",
        "  s.set_ylabel('True Label');\n",
        "  plt.show()\n",
        "  print('-'*100)\n",
        "\n",
        "print('='*100)\n",
        "print(f'{fold} Fold Validation Mean Accuracy')\n",
        "print('akurasi tertinggi : ',np.max(acc))\n",
        "print('akurasi terendah : ',np.min(acc))\n",
        "print('rata-rata akurasi : ',np.mean(acc))"
      ],
      "metadata": {
        "id": "UULU7FQ3Zlz7"
      },
      "execution_count": null,
      "outputs": []
    },
    {
      "cell_type": "markdown",
      "source": [
        "##### Unit = 128"
      ],
      "metadata": {
        "id": "v48sHB5GZprr"
      }
    },
    {
      "cell_type": "code",
      "source": [
        "def build_model():\n",
        "  # Definisi Classifier\n",
        "  visible = Input(shape=(df_vector.shape[1],))\n",
        "  hidden1 = Dense(128, activation='relu')(visible)\n",
        "  hidden2 = Dense(128, activation='relu')(hidden1)\n",
        "  hidden3 = Dense(128, activation='relu')(hidden2)\n",
        "  output = Dense(2, activation='sigmoid')(hidden3)\n",
        "  model = Model(inputs=visible, outputs=output)\n",
        "  model.compile(\n",
        "      loss = tf.keras.losses.BinaryCrossentropy(),\n",
        "      optimizer = tf.keras.optimizers.Adam(1e-4),\n",
        "      metrics = ['accuracy']\n",
        "  )\n",
        "  return model"
      ],
      "metadata": {
        "id": "7S0mPvfzZprr"
      },
      "execution_count": null,
      "outputs": []
    },
    {
      "cell_type": "code",
      "source": [
        "fold = 0\n",
        "acc = []\n",
        "best_model = build_model()\n",
        "for train_index, test_index in kf.split(df_vector):\n",
        "  fold += 1\n",
        "  print(f'{fold} Fold')\n",
        "  y = OneHotEncoder(sparse=False)\n",
        "  labels = pd.DataFrame(y.fit_transform(Label.reshape(-1, 1)))\n",
        "  X_train, X_test = df_vector.iloc[train_index], df_vector.iloc[test_index]\n",
        "  y_train, y_test = labels.iloc[train_index], Label[test_index]\n",
        "\n",
        "  # Training Classifier Model\n",
        "  best_model.fit(X_train,y_train, epochs=5)\n",
        "\n",
        "  # Melakukan Prediksi\n",
        "  y_predict = np.argmax(best_model.predict(X_test),axis=1)\n",
        "\n",
        "  # Membandingkan hasil Prediksi terhadap data asli\n",
        "  print(\"Classification Report\")\n",
        "  print(classification_report(y_test,y_predict))\n",
        "  print('Accuracy : ', accuracy_score(y_test,y_predict))\n",
        "  acc.append(accuracy_score(y_test,y_predict))\n",
        "\n",
        "  cnf_matrix = confusion_matrix(y_test,y_predict)\n",
        "  s = sn.heatmap(cnf_matrix/np.sum(cnf_matrix),\n",
        "            annot=True,\n",
        "            fmt='.2%',\n",
        "            xticklabels = ['HS', 'Non_HS'],\n",
        "            yticklabels = ['HS', 'Non_HS'],\n",
        "            );\n",
        "  s.set_xlabel('Predicted Label');\n",
        "  s.set_ylabel('True Label');\n",
        "  plt.show()\n",
        "  print('-'*100)\n",
        "\n",
        "print('='*100)\n",
        "print(f'{fold} Fold Validation Mean Accuracy')\n",
        "print('akurasi tertinggi : ',np.max(acc))\n",
        "print('akurasi terendah : ',np.min(acc))\n",
        "print('rata-rata akurasi : ',np.mean(acc))"
      ],
      "metadata": {
        "id": "8IYljZQhZprs"
      },
      "execution_count": null,
      "outputs": []
    },
    {
      "cell_type": "markdown",
      "metadata": {
        "id": "YWpYb5ANPncs"
      },
      "source": [
        "## LSTM\n",
        "\n",
        "![image.png](data:image/png;base64,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)\n",
        "\n",
        "Recurrent Neural Network Graph"
      ]
    },
    {
      "cell_type": "markdown",
      "source": [
        "### Parameter Tuning menggunakan Keras Tuner"
      ],
      "metadata": {
        "id": "Dg1MKBIZYzAN"
      }
    },
    {
      "cell_type": "code",
      "source": [
        "def build_model(hp):\n",
        "  # Definisi Classifier\n",
        "  visible = Input(shape=(df_vector.shape[1],1))\n",
        "  hidden1 = LSTM(hp.Choice('units', [8, 16, 32, 64, 128]))(visible)\n",
        "  hidden2 = Dense(hp.Choice('units', [8, 16, 32, 64, 128]), activation='relu')(hidden1)\n",
        "  output = Dense(2, activation='sigmoid')(hidden2)\n",
        "  model = Model(inputs=visible, outputs=output)\n",
        "  model.compile(\n",
        "      loss = tf.keras.losses.BinaryCrossentropy(),\n",
        "      optimizer = tf.keras.optimizers.Adam(1e-4),\n",
        "      metrics = ['accuracy']\n",
        "  )\n",
        "  return model"
      ],
      "metadata": {
        "id": "0lvHDbzQgzqS"
      },
      "execution_count": null,
      "outputs": []
    },
    {
      "cell_type": "code",
      "source": [
        "tuner_lstm = kt.RandomSearch(\n",
        "    build_model,\n",
        "    objective='val_accuracy',\n",
        "    directory=\"lstm\",\n",
        "    max_trials=100)"
      ],
      "metadata": {
        "id": "4YZEU_xcgzqS"
      },
      "execution_count": null,
      "outputs": []
    },
    {
      "cell_type": "code",
      "source": [
        "y = OneHotEncoder(sparse=False)\n",
        "labels = pd.DataFrame(y.fit_transform(Label.reshape(-1, 1)))\n",
        "\n",
        "tuner_lstm.search(df_vector, labels, epochs=10, validation_data=(df_vector, labels))\n",
        "best_model = tuner_lstm.get_best_models()[0]"
      ],
      "metadata": {
        "id": "MKKfU9IxgzqS"
      },
      "execution_count": null,
      "outputs": []
    },
    {
      "cell_type": "code",
      "execution_count": null,
      "metadata": {
        "colab": {
          "background_save": true,
          "base_uri": "https://localhost:8080/",
          "height": 1000
        },
        "id": "4m042vlaPmC4",
        "outputId": "fe645260-b9d3-4375-c14d-c372976a8a15"
      },
      "outputs": [
        {
          "name": "stdout",
          "output_type": "stream",
          "text": [
            "1 Fold\n",
            "Epoch 1/5\n",
            "111/111 [==============================] - 211s 2s/step - loss: 0.6887 - accuracy: 0.7445\n",
            "Epoch 2/5\n",
            "111/111 [==============================] - 208s 2s/step - loss: 0.6779 - accuracy: 0.7473\n",
            "Epoch 3/5\n",
            "111/111 [==============================] - 209s 2s/step - loss: 0.6613 - accuracy: 0.7476\n",
            "Epoch 4/5\n",
            "111/111 [==============================] - 209s 2s/step - loss: 0.6210 - accuracy: 0.7476\n",
            "Epoch 5/5\n",
            "111/111 [==============================] - 208s 2s/step - loss: 0.5662 - accuracy: 0.7476\n",
            "Classification Report\n",
            "              precision    recall  f1-score   support\n",
            "\n",
            "           0       0.72      1.00      0.84       640\n",
            "           1       0.00      0.00      0.00       247\n",
            "\n",
            "    accuracy                           0.72       887\n",
            "   macro avg       0.36      0.50      0.42       887\n",
            "weighted avg       0.52      0.72      0.60       887\n",
            "\n",
            "Accuracy :  0.7215332581736189\n"
          ]
        },
        {
          "data": {
            "image/png": "[encoded data removed]",
            "text/plain": [
              "<Figure size 432x288 with 2 Axes>"
            ]
          },
          "metadata": {},
          "output_type": "display_data"
        },
        {
          "name": "stdout",
          "output_type": "stream",
          "text": [
            "----------------------------------------------------------------------------------------------------\n",
            "2 Fold\n",
            "Epoch 1/5\n",
            "111/111 [==============================] - 209s 2s/step - loss: 0.5715 - accuracy: 0.7425\n",
            "Epoch 2/5\n",
            "111/111 [==============================] - 210s 2s/step - loss: 0.5713 - accuracy: 0.7425\n",
            "Epoch 3/5\n",
            "111/111 [==============================] - 211s 2s/step - loss: 0.5711 - accuracy: 0.7425\n",
            "Epoch 4/5\n",
            "111/111 [==============================] - 212s 2s/step - loss: 0.5710 - accuracy: 0.7425\n",
            "Epoch 5/5\n",
            "111/111 [==============================] - 211s 2s/step - loss: 0.5709 - accuracy: 0.7425\n",
            "Classification Report\n",
            "              precision    recall  f1-score   support\n",
            "\n",
            "           0       0.74      1.00      0.85       658\n",
            "           1       0.00      0.00      0.00       229\n",
            "\n",
            "    accuracy                           0.74       887\n",
            "   macro avg       0.37      0.50      0.43       887\n",
            "weighted avg       0.55      0.74      0.63       887\n",
            "\n",
            "Accuracy :  0.741826381059752\n"
          ]
        },
        {
          "data": {
            "image/png": "[encoded data removed]",
            "text/plain": [
              "<Figure size 432x288 with 2 Axes>"
            ]
          },
          "metadata": {},
          "output_type": "display_data"
        },
        {
          "name": "stdout",
          "output_type": "stream",
          "text": [
            "----------------------------------------------------------------------------------------------------\n",
            "3 Fold\n",
            "Epoch 1/5\n",
            "111/111 [==============================] - 209s 2s/step - loss: 0.5748 - accuracy: 0.7386\n",
            "Epoch 2/5\n",
            "111/111 [==============================] - 209s 2s/step - loss: 0.5747 - accuracy: 0.7386\n",
            "Epoch 3/5\n",
            "111/111 [==============================] - 211s 2s/step - loss: 0.5747 - accuracy: 0.7386\n",
            "Epoch 4/5\n",
            "111/111 [==============================] - 210s 2s/step - loss: 0.5747 - accuracy: 0.7386\n",
            "Epoch 5/5\n",
            "111/111 [==============================] - 209s 2s/step - loss: 0.5745 - accuracy: 0.7386\n",
            "Classification Report\n",
            "              precision    recall  f1-score   support\n",
            "\n",
            "           0       0.76      1.00      0.86       672\n",
            "           1       0.00      0.00      0.00       215\n",
            "\n",
            "    accuracy                           0.76       887\n",
            "   macro avg       0.38      0.50      0.43       887\n",
            "weighted avg       0.57      0.76      0.65       887\n",
            "\n",
            "Accuracy :  0.7576099210822999\n"
          ]
        },
        {
          "data": {
            "image/png": "[encoded data removed]",
            "text/plain": [
              "<Figure size 432x288 with 2 Axes>"
            ]
          },
          "metadata": {},
          "output_type": "display_data"
        },
        {
          "name": "stdout",
          "output_type": "stream",
          "text": [
            "----------------------------------------------------------------------------------------------------\n",
            "4 Fold\n",
            "Epoch 1/5\n",
            "111/111 [==============================] - 208s 2s/step - loss: 0.5700 - accuracy: 0.7429\n",
            "Epoch 2/5\n",
            "111/111 [==============================] - 209s 2s/step - loss: 0.5700 - accuracy: 0.7429\n",
            "Epoch 3/5\n",
            "111/111 [==============================] - 211s 2s/step - loss: 0.5699 - accuracy: 0.7429\n",
            "Epoch 4/5\n",
            "111/111 [==============================] - 209s 2s/step - loss: 0.5699 - accuracy: 0.7429\n",
            "Epoch 5/5\n",
            "111/111 [==============================] - 210s 2s/step - loss: 0.5699 - accuracy: 0.7429\n",
            "Classification Report\n",
            "              precision    recall  f1-score   support\n",
            "\n",
            "           0       0.74      1.00      0.85       656\n",
            "           1       0.00      0.00      0.00       230\n",
            "\n",
            "    accuracy                           0.74       886\n",
            "   macro avg       0.37      0.50      0.43       886\n",
            "weighted avg       0.55      0.74      0.63       886\n",
            "\n",
            "Accuracy :  0.7404063205417607\n"
          ]
        },
        {
          "data": {
            "image/png": "[encoded data removed]",
            "text/plain": [
              "<Figure size 432x288 with 2 Axes>"
            ]
          },
          "metadata": {},
          "output_type": "display_data"
        },
        {
          "name": "stdout",
          "output_type": "stream",
          "text": [
            "----------------------------------------------------------------------------------------------------\n",
            "5 Fold\n",
            "Epoch 1/5\n",
            "111/111 [==============================] - 211s 2s/step - loss: 0.5724 - accuracy: 0.7403\n",
            "Epoch 2/5\n",
            "111/111 [==============================] - 208s 2s/step - loss: 0.5724 - accuracy: 0.7403\n",
            "Epoch 3/5\n",
            "111/111 [==============================] - 211s 2s/step - loss: 0.5724 - accuracy: 0.7403\n",
            "Epoch 4/5\n",
            "111/111 [==============================] - 224s 2s/step - loss: 0.5723 - accuracy: 0.7403\n",
            "Epoch 5/5\n",
            "111/111 [==============================] - 226s 2s/step - loss: 0.5723 - accuracy: 0.7403\n",
            "Classification Report\n",
            "              precision    recall  f1-score   support\n",
            "\n",
            "           0       0.75      1.00      0.86       665\n",
            "           1       0.00      0.00      0.00       221\n",
            "\n",
            "    accuracy                           0.75       886\n",
            "   macro avg       0.38      0.50      0.43       886\n",
            "weighted avg       0.56      0.75      0.64       886\n",
            "\n",
            "Accuracy :  0.7505643340857788\n"
          ]
        },
        {
          "data": {
            "image/png": "[encoded data removed]",
            "text/plain": [
              "<Figure size 432x288 with 2 Axes>"
            ]
          },
          "metadata": {},
          "output_type": "display_data"
        },
        {
          "name": "stdout",
          "output_type": "stream",
          "text": [
            "----------------------------------------------------------------------------------------------------\n",
            "====================================================================================================\n",
            "5 Fold Validation Mean Accuracy\n",
            "akurasi tertinggi :  0.7576099210822999\n",
            "akurasi terendah :  0.7215332581736189\n",
            "rata-rata akurasi :  0.742388042988642\n"
          ]
        }
      ],
      "source": [
        "fold = 0\n",
        "acc = []\n",
        "# Definisi Classifier\n",
        "visible = Input(shape=(df_vector.shape[1],1))\n",
        "hidden1 = LSTM(10)(visible)\n",
        "hidden2 = Dense(10, activation='relu')(hidden1)\n",
        "output = Dense(2, activation='sigmoid')(hidden2)\n",
        "model = Model(inputs=visible, outputs=output)\n",
        "model.compile(\n",
        "    loss = tf.keras.losses.BinaryCrossentropy(),\n",
        "    optimizer = tf.keras.optimizers.Adam(1e-4),\n",
        "    metrics = ['accuracy']\n",
        ")\n",
        "\n",
        "for train_index, test_index in kf.split(df_vector):\n",
        "  fold += 1\n",
        "  print(f'{fold} Fold')\n",
        "  y = OneHotEncoder(sparse=False)\n",
        "  labels = pd.DataFrame(y.fit_transform(Label.reshape(-1, 1)))\n",
        "  X_train, X_test = df_vector.iloc[train_index], df_vector.iloc[test_index]\n",
        "  y_train, y_test = labels.iloc[train_index], Label[test_index]\n",
        "\n",
        "  # Training Classifier Model\n",
        "  best_model.fit(X_train,y_train, epochs=5)\n",
        "\n",
        "  # Melakukan Prediksi\n",
        "  y_predict = np.argmax(best_model.predict(X_test),axis=1)\n",
        "\n",
        "  # Membandingkan hasil Prediksi terhadap data asli\n",
        "  print(\"Classification Report\")\n",
        "  print(classification_report(y_test,y_predict))\n",
        "  print('Accuracy : ', accuracy_score(y_test,y_predict))\n",
        "  acc.append(accuracy_score(y_test,y_predict))\n",
        "\n",
        "  cnf_matrix = confusion_matrix(y_test,y_predict)\n",
        "  s = sn.heatmap(cnf_matrix/np.sum(cnf_matrix),\n",
        "            annot=True,\n",
        "            fmt='.2%',\n",
        "            xticklabels = ['HS', 'Non_HS'],\n",
        "            yticklabels = ['HS', 'Non_HS'],\n",
        "            );\n",
        "  s.set_xlabel('Predicted Label');\n",
        "  s.set_ylabel('True Label');\n",
        "  plt.show()\n",
        "  print('-'*100)\n",
        "\n",
        "print('='*100)\n",
        "print(f'{fold} Fold Validation Mean Accuracy')\n",
        "print('akurasi tertinggi : ',np.max(acc))\n",
        "print('akurasi terendah : ',np.min(acc))\n",
        "print('rata-rata akurasi : ',np.mean(acc))"
      ]
    },
    {
      "cell_type": "markdown",
      "source": [
        "### Parameter Tuning Manual"
      ],
      "metadata": {
        "id": "eyCUIJd4aeGX"
      }
    },
    {
      "cell_type": "markdown",
      "source": [
        "#### Unit Tuning"
      ],
      "metadata": {
        "id": "Qg9FDGTSaeGg"
      }
    },
    {
      "cell_type": "markdown",
      "source": [
        "##### Unit = 8"
      ],
      "metadata": {
        "id": "cDjD0xqTaeGg"
      }
    },
    {
      "cell_type": "code",
      "source": [
        "def build_model():\n",
        "  # Definisi Classifier\n",
        "  visible = Input(shape=(df_vector.shape[1],1))\n",
        "  hidden1 = LSTM(8)(visible)\n",
        "  hidden2 = Dense(8, activation='relu')(hidden1)\n",
        "  output = Dense(2, activation='sigmoid')(hidden2)\n",
        "  model = Model(inputs=visible, outputs=output)\n",
        "  model.compile(\n",
        "      loss = tf.keras.losses.BinaryCrossentropy(),\n",
        "      optimizer = tf.keras.optimizers.Adam(1e-4),\n",
        "      metrics = ['accuracy']\n",
        "  )\n",
        "  return model"
      ],
      "metadata": {
        "id": "sxaoV9hoaeGg"
      },
      "execution_count": null,
      "outputs": []
    },
    {
      "cell_type": "code",
      "source": [
        "fold = 0\n",
        "acc = []\n",
        "best_model = build_model()\n",
        "for train_index, test_index in kf.split(df_vector):\n",
        "  fold += 1\n",
        "  print(f'{fold} Fold')\n",
        "  y = OneHotEncoder(sparse=False)\n",
        "  labels = pd.DataFrame(y.fit_transform(Label.reshape(-1, 1)))\n",
        "  X_train, X_test = df_vector.iloc[train_index], df_vector.iloc[test_index]\n",
        "  y_train, y_test = labels.iloc[train_index], Label[test_index]\n",
        "\n",
        "  # Training Classifier Model\n",
        "  best_model.fit(X_train,y_train, epochs=5)\n",
        "\n",
        "  # Melakukan Prediksi\n",
        "  y_predict = np.argmax(best_model.predict(X_test),axis=1)\n",
        "\n",
        "  # Membandingkan hasil Prediksi terhadap data asli\n",
        "  print(\"Classification Report\")\n",
        "  print(classification_report(y_test,y_predict))\n",
        "  print('Accuracy : ', accuracy_score(y_test,y_predict))\n",
        "  acc.append(accuracy_score(y_test,y_predict))\n",
        "\n",
        "  cnf_matrix = confusion_matrix(y_test,y_predict)\n",
        "  s = sn.heatmap(cnf_matrix/np.sum(cnf_matrix),\n",
        "            annot=True,\n",
        "            fmt='.2%',\n",
        "            xticklabels = ['HS', 'Non_HS'],\n",
        "            yticklabels = ['HS', 'Non_HS'],\n",
        "            );\n",
        "  s.set_xlabel('Predicted Label');\n",
        "  s.set_ylabel('True Label');\n",
        "  plt.show()\n",
        "  print('-'*100)\n",
        "\n",
        "print('='*100)\n",
        "print(f'{fold} Fold Validation Mean Accuracy')\n",
        "print('akurasi tertinggi : ',np.max(acc))\n",
        "print('akurasi terendah : ',np.min(acc))\n",
        "print('rata-rata akurasi : ',np.mean(acc))"
      ],
      "metadata": {
        "id": "m4EC2eTWaeGg"
      },
      "execution_count": null,
      "outputs": []
    },
    {
      "cell_type": "markdown",
      "source": [
        "##### Unit = 16"
      ],
      "metadata": {
        "id": "Bfmnr9gWaeGh"
      }
    },
    {
      "cell_type": "code",
      "source": [
        "def build_model():\n",
        "  # Definisi Classifier\n",
        "  visible = Input(shape=(df_vector.shape[1],1))\n",
        "  hidden1 = LSTM(16)(visible)\n",
        "  hidden2 = Dense(16, activation='relu')(hidden1)\n",
        "  output = Dense(2, activation='sigmoid')(hidden2)\n",
        "  model = Model(inputs=visible, outputs=output)\n",
        "  model.compile(\n",
        "      loss = tf.keras.losses.BinaryCrossentropy(),\n",
        "      optimizer = tf.keras.optimizers.Adam(1e-4),\n",
        "      metrics = ['accuracy']\n",
        "  )\n",
        "  return model"
      ],
      "metadata": {
        "id": "5ayt0fWwaeGh"
      },
      "execution_count": null,
      "outputs": []
    },
    {
      "cell_type": "code",
      "source": [
        "fold = 0\n",
        "acc = []\n",
        "best_model = build_model()\n",
        "for train_index, test_index in kf.split(df_vector):\n",
        "  fold += 1\n",
        "  print(f'{fold} Fold')\n",
        "  y = OneHotEncoder(sparse=False)\n",
        "  labels = pd.DataFrame(y.fit_transform(Label.reshape(-1, 1)))\n",
        "  X_train, X_test = df_vector.iloc[train_index], df_vector.iloc[test_index]\n",
        "  y_train, y_test = labels.iloc[train_index], Label[test_index]\n",
        "\n",
        "  # Training Classifier Model\n",
        "  best_model.fit(X_train,y_train, epochs=5)\n",
        "\n",
        "  # Melakukan Prediksi\n",
        "  y_predict = np.argmax(best_model.predict(X_test),axis=1)\n",
        "\n",
        "  # Membandingkan hasil Prediksi terhadap data asli\n",
        "  print(\"Classification Report\")\n",
        "  print(classification_report(y_test,y_predict))\n",
        "  print('Accuracy : ', accuracy_score(y_test,y_predict))\n",
        "  acc.append(accuracy_score(y_test,y_predict))\n",
        "\n",
        "  cnf_matrix = confusion_matrix(y_test,y_predict)\n",
        "  s = sn.heatmap(cnf_matrix/np.sum(cnf_matrix),\n",
        "            annot=True,\n",
        "            fmt='.2%',\n",
        "            xticklabels = ['HS', 'Non_HS'],\n",
        "            yticklabels = ['HS', 'Non_HS'],\n",
        "            );\n",
        "  s.set_xlabel('Predicted Label');\n",
        "  s.set_ylabel('True Label');\n",
        "  plt.show()\n",
        "  print('-'*100)\n",
        "\n",
        "print('='*100)\n",
        "print(f'{fold} Fold Validation Mean Accuracy')\n",
        "print('akurasi tertinggi : ',np.max(acc))\n",
        "print('akurasi terendah : ',np.min(acc))\n",
        "print('rata-rata akurasi : ',np.mean(acc))"
      ],
      "metadata": {
        "id": "KKg_juKLaeGh"
      },
      "execution_count": null,
      "outputs": []
    },
    {
      "cell_type": "markdown",
      "source": [
        "##### Unit = 32"
      ],
      "metadata": {
        "id": "IpXtzxU0aeGh"
      }
    },
    {
      "cell_type": "code",
      "source": [
        "def build_model():\n",
        "  # Definisi Classifier\n",
        "  visible = Input(shape=(df_vector.shape[1],1))\n",
        "  hidden1 = LSTM(32)(visible)\n",
        "  hidden2 = Dense(32, activation='relu')(hidden1)\n",
        "  output = Dense(2, activation='sigmoid')(hidden2)\n",
        "  model = Model(inputs=visible, outputs=output)\n",
        "  model.compile(\n",
        "      loss = tf.keras.losses.BinaryCrossentropy(),\n",
        "      optimizer = tf.keras.optimizers.Adam(1e-4),\n",
        "      metrics = ['accuracy']\n",
        "  )\n",
        "  return model"
      ],
      "metadata": {
        "id": "GPh2cQDwaeGi"
      },
      "execution_count": null,
      "outputs": []
    },
    {
      "cell_type": "code",
      "source": [
        "fold = 0\n",
        "acc = []\n",
        "best_model = build_model()\n",
        "for train_index, test_index in kf.split(df_vector):\n",
        "  fold += 1\n",
        "  print(f'{fold} Fold')\n",
        "  y = OneHotEncoder(sparse=False)\n",
        "  labels = pd.DataFrame(y.fit_transform(Label.reshape(-1, 1)))\n",
        "  X_train, X_test = df_vector.iloc[train_index], df_vector.iloc[test_index]\n",
        "  y_train, y_test = labels.iloc[train_index], Label[test_index]\n",
        "\n",
        "  # Training Classifier Model\n",
        "  best_model.fit(X_train,y_train, epochs=5)\n",
        "\n",
        "  # Melakukan Prediksi\n",
        "  y_predict = np.argmax(best_model.predict(X_test),axis=1)\n",
        "\n",
        "  # Membandingkan hasil Prediksi terhadap data asli\n",
        "  print(\"Classification Report\")\n",
        "  print(classification_report(y_test,y_predict))\n",
        "  print('Accuracy : ', accuracy_score(y_test,y_predict))\n",
        "  acc.append(accuracy_score(y_test,y_predict))\n",
        "\n",
        "  cnf_matrix = confusion_matrix(y_test,y_predict)\n",
        "  s = sn.heatmap(cnf_matrix/np.sum(cnf_matrix),\n",
        "            annot=True,\n",
        "            fmt='.2%',\n",
        "            xticklabels = ['HS', 'Non_HS'],\n",
        "            yticklabels = ['HS', 'Non_HS'],\n",
        "            );\n",
        "  s.set_xlabel('Predicted Label');\n",
        "  s.set_ylabel('True Label');\n",
        "  plt.show()\n",
        "  print('-'*100)\n",
        "\n",
        "print('='*100)\n",
        "print(f'{fold} Fold Validation Mean Accuracy')\n",
        "print('akurasi tertinggi : ',np.max(acc))\n",
        "print('akurasi terendah : ',np.min(acc))\n",
        "print('rata-rata akurasi : ',np.mean(acc))"
      ],
      "metadata": {
        "id": "roF4FqwDaeGi"
      },
      "execution_count": null,
      "outputs": []
    },
    {
      "cell_type": "markdown",
      "source": [
        "##### Unit = 64"
      ],
      "metadata": {
        "id": "8ZI4iEmtaeGi"
      }
    },
    {
      "cell_type": "code",
      "source": [
        "def build_model():\n",
        "  # Definisi Classifier\n",
        "  visible = Input(shape=(df_vector.shape[1],1))\n",
        "  hidden1 = LSTM(64)(visible)\n",
        "  hidden2 = Dense(64, activation='relu')(hidden1)\n",
        "  output = Dense(2, activation='sigmoid')(hidden2)\n",
        "  model = Model(inputs=visible, outputs=output)\n",
        "  model.compile(\n",
        "      loss = tf.keras.losses.BinaryCrossentropy(),\n",
        "      optimizer = tf.keras.optimizers.Adam(1e-4),\n",
        "      metrics = ['accuracy']\n",
        "  )\n",
        "  return model"
      ],
      "metadata": {
        "id": "iH50OUFzaeGi"
      },
      "execution_count": null,
      "outputs": []
    },
    {
      "cell_type": "code",
      "source": [
        "fold = 0\n",
        "acc = []\n",
        "best_model = build_model()\n",
        "for train_index, test_index in kf.split(df_vector):\n",
        "  fold += 1\n",
        "  print(f'{fold} Fold')\n",
        "  y = OneHotEncoder(sparse=False)\n",
        "  labels = pd.DataFrame(y.fit_transform(Label.reshape(-1, 1)))\n",
        "  X_train, X_test = df_vector.iloc[train_index], df_vector.iloc[test_index]\n",
        "  y_train, y_test = labels.iloc[train_index], Label[test_index]\n",
        "\n",
        "  # Training Classifier Model\n",
        "  best_model.fit(X_train,y_train, epochs=5)\n",
        "\n",
        "  # Melakukan Prediksi\n",
        "  y_predict = np.argmax(best_model.predict(X_test),axis=1)\n",
        "\n",
        "  # Membandingkan hasil Prediksi terhadap data asli\n",
        "  print(\"Classification Report\")\n",
        "  print(classification_report(y_test,y_predict))\n",
        "  print('Accuracy : ', accuracy_score(y_test,y_predict))\n",
        "  acc.append(accuracy_score(y_test,y_predict))\n",
        "\n",
        "  cnf_matrix = confusion_matrix(y_test,y_predict)\n",
        "  s = sn.heatmap(cnf_matrix/np.sum(cnf_matrix),\n",
        "            annot=True,\n",
        "            fmt='.2%',\n",
        "            xticklabels = ['HS', 'Non_HS'],\n",
        "            yticklabels = ['HS', 'Non_HS'],\n",
        "            );\n",
        "  s.set_xlabel('Predicted Label');\n",
        "  s.set_ylabel('True Label');\n",
        "  plt.show()\n",
        "  print('-'*100)\n",
        "\n",
        "print('='*100)\n",
        "print(f'{fold} Fold Validation Mean Accuracy')\n",
        "print('akurasi tertinggi : ',np.max(acc))\n",
        "print('akurasi terendah : ',np.min(acc))\n",
        "print('rata-rata akurasi : ',np.mean(acc))"
      ],
      "metadata": {
        "id": "eHPLqM99aeGj"
      },
      "execution_count": null,
      "outputs": []
    },
    {
      "cell_type": "markdown",
      "source": [
        "##### Unit = 128"
      ],
      "metadata": {
        "id": "1WzAteJ_aeGj"
      }
    },
    {
      "cell_type": "code",
      "source": [
        "def build_model():\n",
        "  # Definisi Classifier\n",
        "  visible = Input(shape=(df_vector.shape[1],1))\n",
        "  hidden1 = LSTM(128)(visible)\n",
        "  hidden2 = Dense(128, activation='relu')(hidden1)\n",
        "  output = Dense(2, activation='sigmoid')(hidden2)\n",
        "  model = Model(inputs=visible, outputs=output)\n",
        "  model.compile(\n",
        "      loss = tf.keras.losses.BinaryCrossentropy(),\n",
        "      optimizer = tf.keras.optimizers.Adam(1e-4),\n",
        "      metrics = ['accuracy']\n",
        "  )\n",
        "  return model"
      ],
      "metadata": {
        "id": "er-kMKjPaeGj"
      },
      "execution_count": null,
      "outputs": []
    },
    {
      "cell_type": "code",
      "source": [
        "fold = 0\n",
        "acc = []\n",
        "best_model = build_model()\n",
        "for train_index, test_index in kf.split(df_vector):\n",
        "  fold += 1\n",
        "  print(f'{fold} Fold')\n",
        "  y = OneHotEncoder(sparse=False)\n",
        "  labels = pd.DataFrame(y.fit_transform(Label.reshape(-1, 1)))\n",
        "  X_train, X_test = df_vector.iloc[train_index], df_vector.iloc[test_index]\n",
        "  y_train, y_test = labels.iloc[train_index], Label[test_index]\n",
        "\n",
        "  # Training Classifier Model\n",
        "  best_model.fit(X_train,y_train, epochs=5)\n",
        "\n",
        "  # Melakukan Prediksi\n",
        "  y_predict = np.argmax(best_model.predict(X_test),axis=1)\n",
        "\n",
        "  # Membandingkan hasil Prediksi terhadap data asli\n",
        "  print(\"Classification Report\")\n",
        "  print(classification_report(y_test,y_predict))\n",
        "  print('Accuracy : ', accuracy_score(y_test,y_predict))\n",
        "  acc.append(accuracy_score(y_test,y_predict))\n",
        "\n",
        "  cnf_matrix = confusion_matrix(y_test,y_predict)\n",
        "  s = sn.heatmap(cnf_matrix/np.sum(cnf_matrix),\n",
        "            annot=True,\n",
        "            fmt='.2%',\n",
        "            xticklabels = ['HS', 'Non_HS'],\n",
        "            yticklabels = ['HS', 'Non_HS'],\n",
        "            );\n",
        "  s.set_xlabel('Predicted Label');\n",
        "  s.set_ylabel('True Label');\n",
        "  plt.show()\n",
        "  print('-'*100)\n",
        "\n",
        "print('='*100)\n",
        "print(f'{fold} Fold Validation Mean Accuracy')\n",
        "print('akurasi tertinggi : ',np.max(acc))\n",
        "print('akurasi terendah : ',np.min(acc))\n",
        "print('rata-rata akurasi : ',np.mean(acc))"
      ],
      "metadata": {
        "id": "Ug6YzB-8aeGj"
      },
      "execution_count": null,
      "outputs": []
    },
    {
      "cell_type": "markdown",
      "metadata": {
        "id": "zJBib-3sh7wz"
      },
      "source": [
        "## Hybrid MLP-LSTM"
      ]
    },
    {
      "cell_type": "markdown",
      "source": [
        "### Parameter Tuning menggunakan Keras Tuner"
      ],
      "metadata": {
        "id": "fycXWTRXYzt_"
      }
    },
    {
      "cell_type": "code",
      "source": [
        "def build_model(hp):\n",
        "  # Input Layer\n",
        "  input = Input(shape=(df_vector.shape[1],))\n",
        "  layer1 = Dense(10, activation='relu')(input)\n",
        "\n",
        "  # Definisi MLP\n",
        "  mlp_hidden1 = Dense(hp.Choice('units', [8, 16, 32, 64, 128]), activation='relu')(layer1)\n",
        "  mlp_hidden2 = Dense(hp.Choice('units', [8, 16, 32, 64, 128]), activation='relu')(mlp_hidden1)\n",
        "  mlp_hidden3 = Dense(hp.Choice('units', [8, 16, 32, 64, 128]), activation='relu')(mlp_hidden2)\n",
        "\n",
        "  # Definisi RNN\n",
        "  reshape = tf.keras.layers.Reshape((10,1))(layer1)\n",
        "  lstm_hidden1 = LSTM(hp.Choice('units', [8, 16, 32, 64, 128]))(reshape)\n",
        "\n",
        "  # merge feature extractors\n",
        "  merge = concatenate([mlp_hidden3, lstm_hidden1])\n",
        "\n",
        "  # interpretation layer\n",
        "  interpretation = Dense(10, activation='relu')(merge)\n",
        "\n",
        "  # output layer\n",
        "  output = Dense(2, activation='sigmoid')(interpretation)\n",
        "\n",
        "  model = Model(inputs=input, outputs=output)\n",
        "  model.compile(\n",
        "      loss = tf.keras.losses.BinaryCrossentropy(),\n",
        "      optimizer = tf.keras.optimizers.Adam(1e-4),\n",
        "      metrics = ['accuracy']\n",
        "  )\n",
        "  return model"
      ],
      "metadata": {
        "id": "-Eux2QAvl9VS"
      },
      "execution_count": null,
      "outputs": []
    },
    {
      "cell_type": "code",
      "source": [
        "tuner_mlplstm = kt.RandomSearch(\n",
        "    build_model,\n",
        "    objective='val_accuracy',\n",
        "    directory=\"mlplstm\",\n",
        "    max_trials=100)"
      ],
      "metadata": {
        "id": "fKHImVz2l9VT"
      },
      "execution_count": null,
      "outputs": []
    },
    {
      "cell_type": "code",
      "source": [
        "y = OneHotEncoder(sparse=False)\n",
        "labels = pd.DataFrame(y.fit_transform(Label.reshape(-1, 1)))\n",
        "\n",
        "tuner_mlplstm.search(df_vector, labels, epochs=10, validation_data=(df_vector, labels))\n",
        "best_model = tuner_mlplstm.get_best_models()[0]"
      ],
      "metadata": {
        "colab": {
          "base_uri": "https://localhost:8080/",
          "height": 606
        },
        "outputId": "e7ae6ef3-5821-4378-ff03-2ce26a16b3b1",
        "id": "nm4s8NHyl9VT"
      },
      "execution_count": null,
      "outputs": [
        {
          "output_type": "stream",
          "name": "stdout",
          "text": [
            "\n",
            "Search: Running Trial #1\n",
            "\n",
            "Value             |Best Value So Far |Hyperparameter\n",
            "16                |?                 |units\n",
            "\n",
            "Epoch 1/10\n",
            "139/139 [==============================] - 12s 68ms/step - loss: 0.6893 - accuracy: 0.5973 - val_loss: 0.6768 - val_accuracy: 0.7444\n",
            "Epoch 2/10\n",
            "139/139 [==============================] - 8s 56ms/step - loss: 0.6560 - accuracy: 0.7440 - val_loss: 0.6191 - val_accuracy: 0.7424\n",
            "Epoch 3/10\n",
            "139/139 [==============================] - 7s 52ms/step - loss: 0.5463 - accuracy: 0.7424 - val_loss: 0.4661 - val_accuracy: 0.7424\n",
            "Epoch 4/10\n",
            "117/139 [========================>.....] - ETA: 1s - loss: 0.4234 - accuracy: 0.7425"
          ]
        },
        {
          "output_type": "error",
          "ename": "KeyboardInterrupt",
          "evalue": "ignored",
          "traceback": [
            "\u001b[0;31m---------------------------------------------------------------------------\u001b[0m",
            "\u001b[0;31mKeyboardInterrupt\u001b[0m                         Traceback (most recent call last)",
            "\u001b[0;32m<ipython-input-19-daffa9f310cf>\u001b[0m in \u001b[0;36m<module>\u001b[0;34m()\u001b[0m\n\u001b[1;32m      2\u001b[0m \u001b[0mlabels\u001b[0m \u001b[0;34m=\u001b[0m \u001b[0mpd\u001b[0m\u001b[0;34m.\u001b[0m\u001b[0mDataFrame\u001b[0m\u001b[0;34m(\u001b[0m\u001b[0my\u001b[0m\u001b[0;34m.\u001b[0m\u001b[0mfit_transform\u001b[0m\u001b[0;34m(\u001b[0m\u001b[0mLabel\u001b[0m\u001b[0;34m.\u001b[0m\u001b[0mreshape\u001b[0m\u001b[0;34m(\u001b[0m\u001b[0;34m-\u001b[0m\u001b[0;36m1\u001b[0m\u001b[0;34m,\u001b[0m \u001b[0;36m1\u001b[0m\u001b[0;34m)\u001b[0m\u001b[0;34m)\u001b[0m\u001b[0;34m)\u001b[0m\u001b[0;34m\u001b[0m\u001b[0;34m\u001b[0m\u001b[0m\n\u001b[1;32m      3\u001b[0m \u001b[0;34m\u001b[0m\u001b[0m\n\u001b[0;32m----> 4\u001b[0;31m \u001b[0mtuner_mlplstm\u001b[0m\u001b[0;34m.\u001b[0m\u001b[0msearch\u001b[0m\u001b[0;34m(\u001b[0m\u001b[0mdf_vector\u001b[0m\u001b[0;34m,\u001b[0m \u001b[0mlabels\u001b[0m\u001b[0;34m,\u001b[0m \u001b[0mepochs\u001b[0m\u001b[0;34m=\u001b[0m\u001b[0;36m10\u001b[0m\u001b[0;34m,\u001b[0m \u001b[0mvalidation_data\u001b[0m\u001b[0;34m=\u001b[0m\u001b[0;34m(\u001b[0m\u001b[0mdf_vector\u001b[0m\u001b[0;34m,\u001b[0m \u001b[0mlabels\u001b[0m\u001b[0;34m)\u001b[0m\u001b[0;34m)\u001b[0m\u001b[0;34m\u001b[0m\u001b[0;34m\u001b[0m\u001b[0m\n\u001b[0m\u001b[1;32m      5\u001b[0m \u001b[0mbest_model\u001b[0m \u001b[0;34m=\u001b[0m \u001b[0mtuner_mlplstm\u001b[0m\u001b[0;34m.\u001b[0m\u001b[0mget_best_models\u001b[0m\u001b[0;34m(\u001b[0m\u001b[0;34m)\u001b[0m\u001b[0;34m[\u001b[0m\u001b[0;36m0\u001b[0m\u001b[0;34m]\u001b[0m\u001b[0;34m\u001b[0m\u001b[0;34m\u001b[0m\u001b[0m\n",
            "\u001b[0;32m/usr/local/lib/python3.7/dist-packages/keras_tuner/engine/base_tuner.py\u001b[0m in \u001b[0;36msearch\u001b[0;34m(self, *fit_args, **fit_kwargs)\u001b[0m\n\u001b[1;32m    177\u001b[0m \u001b[0;34m\u001b[0m\u001b[0m\n\u001b[1;32m    178\u001b[0m             \u001b[0mself\u001b[0m\u001b[0;34m.\u001b[0m\u001b[0mon_trial_begin\u001b[0m\u001b[0;34m(\u001b[0m\u001b[0mtrial\u001b[0m\u001b[0;34m)\u001b[0m\u001b[0;34m\u001b[0m\u001b[0;34m\u001b[0m\u001b[0m\n\u001b[0;32m--> 179\u001b[0;31m             \u001b[0mresults\u001b[0m \u001b[0;34m=\u001b[0m \u001b[0mself\u001b[0m\u001b[0;34m.\u001b[0m\u001b[0mrun_trial\u001b[0m\u001b[0;34m(\u001b[0m\u001b[0mtrial\u001b[0m\u001b[0;34m,\u001b[0m \u001b[0;34m*\u001b[0m\u001b[0mfit_args\u001b[0m\u001b[0;34m,\u001b[0m \u001b[0;34m**\u001b[0m\u001b[0mfit_kwargs\u001b[0m\u001b[0;34m)\u001b[0m\u001b[0;34m\u001b[0m\u001b[0;34m\u001b[0m\u001b[0m\n\u001b[0m\u001b[1;32m    180\u001b[0m             \u001b[0;31m# `results` is None indicates user updated oracle in `run_trial()`.\u001b[0m\u001b[0;34m\u001b[0m\u001b[0;34m\u001b[0m\u001b[0;34m\u001b[0m\u001b[0m\n\u001b[1;32m    181\u001b[0m             \u001b[0;32mif\u001b[0m \u001b[0mresults\u001b[0m \u001b[0;32mis\u001b[0m \u001b[0;32mNone\u001b[0m\u001b[0;34m:\u001b[0m\u001b[0;34m\u001b[0m\u001b[0;34m\u001b[0m\u001b[0m\n",
            "\u001b[0;32m/usr/local/lib/python3.7/dist-packages/keras_tuner/engine/tuner.py\u001b[0m in \u001b[0;36mrun_trial\u001b[0;34m(self, trial, *args, **kwargs)\u001b[0m\n\u001b[1;32m    292\u001b[0m             \u001b[0mcallbacks\u001b[0m\u001b[0;34m.\u001b[0m\u001b[0mappend\u001b[0m\u001b[0;34m(\u001b[0m\u001b[0mmodel_checkpoint\u001b[0m\u001b[0;34m)\u001b[0m\u001b[0;34m\u001b[0m\u001b[0;34m\u001b[0m\u001b[0m\n\u001b[1;32m    293\u001b[0m             \u001b[0mcopied_kwargs\u001b[0m\u001b[0;34m[\u001b[0m\u001b[0;34m\"callbacks\"\u001b[0m\u001b[0;34m]\u001b[0m \u001b[0;34m=\u001b[0m \u001b[0mcallbacks\u001b[0m\u001b[0;34m\u001b[0m\u001b[0;34m\u001b[0m\u001b[0m\n\u001b[0;32m--> 294\u001b[0;31m             \u001b[0mobj_value\u001b[0m \u001b[0;34m=\u001b[0m \u001b[0mself\u001b[0m\u001b[0;34m.\u001b[0m\u001b[0m_build_and_fit_model\u001b[0m\u001b[0;34m(\u001b[0m\u001b[0mtrial\u001b[0m\u001b[0;34m,\u001b[0m \u001b[0;34m*\u001b[0m\u001b[0margs\u001b[0m\u001b[0;34m,\u001b[0m \u001b[0;34m**\u001b[0m\u001b[0mcopied_kwargs\u001b[0m\u001b[0;34m)\u001b[0m\u001b[0;34m\u001b[0m\u001b[0;34m\u001b[0m\u001b[0m\n\u001b[0m\u001b[1;32m    295\u001b[0m \u001b[0;34m\u001b[0m\u001b[0m\n\u001b[1;32m    296\u001b[0m             \u001b[0mhistories\u001b[0m\u001b[0;34m.\u001b[0m\u001b[0mappend\u001b[0m\u001b[0;34m(\u001b[0m\u001b[0mobj_value\u001b[0m\u001b[0;34m)\u001b[0m\u001b[0;34m\u001b[0m\u001b[0;34m\u001b[0m\u001b[0m\n",
            "\u001b[0;32m/usr/local/lib/python3.7/dist-packages/keras_tuner/engine/tuner.py\u001b[0m in \u001b[0;36m_build_and_fit_model\u001b[0;34m(self, trial, *args, **kwargs)\u001b[0m\n\u001b[1;32m    220\u001b[0m         \u001b[0mhp\u001b[0m \u001b[0;34m=\u001b[0m \u001b[0mtrial\u001b[0m\u001b[0;34m.\u001b[0m\u001b[0mhyperparameters\u001b[0m\u001b[0;34m\u001b[0m\u001b[0;34m\u001b[0m\u001b[0m\n\u001b[1;32m    221\u001b[0m         \u001b[0mmodel\u001b[0m \u001b[0;34m=\u001b[0m \u001b[0mself\u001b[0m\u001b[0;34m.\u001b[0m\u001b[0m_try_build\u001b[0m\u001b[0;34m(\u001b[0m\u001b[0mhp\u001b[0m\u001b[0;34m)\u001b[0m\u001b[0;34m\u001b[0m\u001b[0;34m\u001b[0m\u001b[0m\n\u001b[0;32m--> 222\u001b[0;31m         \u001b[0mresults\u001b[0m \u001b[0;34m=\u001b[0m \u001b[0mself\u001b[0m\u001b[0;34m.\u001b[0m\u001b[0mhypermodel\u001b[0m\u001b[0;34m.\u001b[0m\u001b[0mfit\u001b[0m\u001b[0;34m(\u001b[0m\u001b[0mhp\u001b[0m\u001b[0;34m,\u001b[0m \u001b[0mmodel\u001b[0m\u001b[0;34m,\u001b[0m \u001b[0;34m*\u001b[0m\u001b[0margs\u001b[0m\u001b[0;34m,\u001b[0m \u001b[0;34m**\u001b[0m\u001b[0mkwargs\u001b[0m\u001b[0;34m)\u001b[0m\u001b[0;34m\u001b[0m\u001b[0;34m\u001b[0m\u001b[0m\n\u001b[0m\u001b[1;32m    223\u001b[0m         return tuner_utils.convert_to_metrics_dict(\n\u001b[1;32m    224\u001b[0m             \u001b[0mresults\u001b[0m\u001b[0;34m,\u001b[0m \u001b[0mself\u001b[0m\u001b[0;34m.\u001b[0m\u001b[0moracle\u001b[0m\u001b[0;34m.\u001b[0m\u001b[0mobjective\u001b[0m\u001b[0;34m,\u001b[0m \u001b[0;34m\"HyperModel.fit()\"\u001b[0m\u001b[0;34m\u001b[0m\u001b[0;34m\u001b[0m\u001b[0m\n",
            "\u001b[0;32m/usr/local/lib/python3.7/dist-packages/keras_tuner/engine/hypermodel.py\u001b[0m in \u001b[0;36mfit\u001b[0;34m(self, hp, model, *args, **kwargs)\u001b[0m\n\u001b[1;32m    135\u001b[0m             \u001b[0mIf\u001b[0m \u001b[0;32mreturn\u001b[0m \u001b[0ma\u001b[0m \u001b[0mfloat\u001b[0m\u001b[0;34m,\u001b[0m \u001b[0mit\u001b[0m \u001b[0mshould\u001b[0m \u001b[0mbe\u001b[0m \u001b[0mthe\u001b[0m\u001b[0;31m \u001b[0m\u001b[0;31m`\u001b[0m\u001b[0mobjective\u001b[0m\u001b[0;31m`\u001b[0m \u001b[0mvalue\u001b[0m\u001b[0;34m.\u001b[0m\u001b[0;34m\u001b[0m\u001b[0;34m\u001b[0m\u001b[0m\n\u001b[1;32m    136\u001b[0m         \"\"\"\n\u001b[0;32m--> 137\u001b[0;31m         \u001b[0;32mreturn\u001b[0m \u001b[0mmodel\u001b[0m\u001b[0;34m.\u001b[0m\u001b[0mfit\u001b[0m\u001b[0;34m(\u001b[0m\u001b[0;34m*\u001b[0m\u001b[0margs\u001b[0m\u001b[0;34m,\u001b[0m \u001b[0;34m**\u001b[0m\u001b[0mkwargs\u001b[0m\u001b[0;34m)\u001b[0m\u001b[0;34m\u001b[0m\u001b[0;34m\u001b[0m\u001b[0m\n\u001b[0m\u001b[1;32m    138\u001b[0m \u001b[0;34m\u001b[0m\u001b[0m\n\u001b[1;32m    139\u001b[0m \u001b[0;34m\u001b[0m\u001b[0m\n",
            "\u001b[0;32m/usr/local/lib/python3.7/dist-packages/keras/utils/traceback_utils.py\u001b[0m in \u001b[0;36merror_handler\u001b[0;34m(*args, **kwargs)\u001b[0m\n\u001b[1;32m     62\u001b[0m     \u001b[0mfiltered_tb\u001b[0m \u001b[0;34m=\u001b[0m \u001b[0;32mNone\u001b[0m\u001b[0;34m\u001b[0m\u001b[0;34m\u001b[0m\u001b[0m\n\u001b[1;32m     63\u001b[0m     \u001b[0;32mtry\u001b[0m\u001b[0;34m:\u001b[0m\u001b[0;34m\u001b[0m\u001b[0;34m\u001b[0m\u001b[0m\n\u001b[0;32m---> 64\u001b[0;31m       \u001b[0;32mreturn\u001b[0m \u001b[0mfn\u001b[0m\u001b[0;34m(\u001b[0m\u001b[0;34m*\u001b[0m\u001b[0margs\u001b[0m\u001b[0;34m,\u001b[0m \u001b[0;34m**\u001b[0m\u001b[0mkwargs\u001b[0m\u001b[0;34m)\u001b[0m\u001b[0;34m\u001b[0m\u001b[0;34m\u001b[0m\u001b[0m\n\u001b[0m\u001b[1;32m     65\u001b[0m     \u001b[0;32mexcept\u001b[0m \u001b[0mException\u001b[0m \u001b[0;32mas\u001b[0m \u001b[0me\u001b[0m\u001b[0;34m:\u001b[0m  \u001b[0;31m# pylint: disable=broad-except\u001b[0m\u001b[0;34m\u001b[0m\u001b[0;34m\u001b[0m\u001b[0m\n\u001b[1;32m     66\u001b[0m       \u001b[0mfiltered_tb\u001b[0m \u001b[0;34m=\u001b[0m \u001b[0m_process_traceback_frames\u001b[0m\u001b[0;34m(\u001b[0m\u001b[0me\u001b[0m\u001b[0;34m.\u001b[0m\u001b[0m__traceback__\u001b[0m\u001b[0;34m)\u001b[0m\u001b[0;34m\u001b[0m\u001b[0;34m\u001b[0m\u001b[0m\n",
            "\u001b[0;32m/usr/local/lib/python3.7/dist-packages/keras/engine/training.py\u001b[0m in \u001b[0;36mfit\u001b[0;34m(self, x, y, batch_size, epochs, verbose, callbacks, validation_split, validation_data, shuffle, class_weight, sample_weight, initial_epoch, steps_per_epoch, validation_steps, validation_batch_size, validation_freq, max_queue_size, workers, use_multiprocessing)\u001b[0m\n\u001b[1;32m   1382\u001b[0m                 _r=1):\n\u001b[1;32m   1383\u001b[0m               \u001b[0mcallbacks\u001b[0m\u001b[0;34m.\u001b[0m\u001b[0mon_train_batch_begin\u001b[0m\u001b[0;34m(\u001b[0m\u001b[0mstep\u001b[0m\u001b[0;34m)\u001b[0m\u001b[0;34m\u001b[0m\u001b[0;34m\u001b[0m\u001b[0m\n\u001b[0;32m-> 1384\u001b[0;31m               \u001b[0mtmp_logs\u001b[0m \u001b[0;34m=\u001b[0m \u001b[0mself\u001b[0m\u001b[0;34m.\u001b[0m\u001b[0mtrain_function\u001b[0m\u001b[0;34m(\u001b[0m\u001b[0miterator\u001b[0m\u001b[0;34m)\u001b[0m\u001b[0;34m\u001b[0m\u001b[0;34m\u001b[0m\u001b[0m\n\u001b[0m\u001b[1;32m   1385\u001b[0m               \u001b[0;32mif\u001b[0m \u001b[0mdata_handler\u001b[0m\u001b[0;34m.\u001b[0m\u001b[0mshould_sync\u001b[0m\u001b[0;34m:\u001b[0m\u001b[0;34m\u001b[0m\u001b[0;34m\u001b[0m\u001b[0m\n\u001b[1;32m   1386\u001b[0m                 \u001b[0mcontext\u001b[0m\u001b[0;34m.\u001b[0m\u001b[0masync_wait\u001b[0m\u001b[0;34m(\u001b[0m\u001b[0;34m)\u001b[0m\u001b[0;34m\u001b[0m\u001b[0;34m\u001b[0m\u001b[0m\n",
            "\u001b[0;32m/usr/local/lib/python3.7/dist-packages/tensorflow/python/util/traceback_utils.py\u001b[0m in \u001b[0;36merror_handler\u001b[0;34m(*args, **kwargs)\u001b[0m\n\u001b[1;32m    148\u001b[0m     \u001b[0mfiltered_tb\u001b[0m \u001b[0;34m=\u001b[0m \u001b[0;32mNone\u001b[0m\u001b[0;34m\u001b[0m\u001b[0;34m\u001b[0m\u001b[0m\n\u001b[1;32m    149\u001b[0m     \u001b[0;32mtry\u001b[0m\u001b[0;34m:\u001b[0m\u001b[0;34m\u001b[0m\u001b[0;34m\u001b[0m\u001b[0m\n\u001b[0;32m--> 150\u001b[0;31m       \u001b[0;32mreturn\u001b[0m \u001b[0mfn\u001b[0m\u001b[0;34m(\u001b[0m\u001b[0;34m*\u001b[0m\u001b[0margs\u001b[0m\u001b[0;34m,\u001b[0m \u001b[0;34m**\u001b[0m\u001b[0mkwargs\u001b[0m\u001b[0;34m)\u001b[0m\u001b[0;34m\u001b[0m\u001b[0;34m\u001b[0m\u001b[0m\n\u001b[0m\u001b[1;32m    151\u001b[0m     \u001b[0;32mexcept\u001b[0m \u001b[0mException\u001b[0m \u001b[0;32mas\u001b[0m \u001b[0me\u001b[0m\u001b[0;34m:\u001b[0m\u001b[0;34m\u001b[0m\u001b[0;34m\u001b[0m\u001b[0m\n\u001b[1;32m    152\u001b[0m       \u001b[0mfiltered_tb\u001b[0m \u001b[0;34m=\u001b[0m \u001b[0m_process_traceback_frames\u001b[0m\u001b[0;34m(\u001b[0m\u001b[0me\u001b[0m\u001b[0;34m.\u001b[0m\u001b[0m__traceback__\u001b[0m\u001b[0;34m)\u001b[0m\u001b[0;34m\u001b[0m\u001b[0;34m\u001b[0m\u001b[0m\n",
            "\u001b[0;32m/usr/local/lib/python3.7/dist-packages/tensorflow/python/eager/def_function.py\u001b[0m in \u001b[0;36m__call__\u001b[0;34m(self, *args, **kwds)\u001b[0m\n\u001b[1;32m    913\u001b[0m \u001b[0;34m\u001b[0m\u001b[0m\n\u001b[1;32m    914\u001b[0m       \u001b[0;32mwith\u001b[0m \u001b[0mOptionalXlaContext\u001b[0m\u001b[0;34m(\u001b[0m\u001b[0mself\u001b[0m\u001b[0;34m.\u001b[0m\u001b[0m_jit_compile\u001b[0m\u001b[0;34m)\u001b[0m\u001b[0;34m:\u001b[0m\u001b[0;34m\u001b[0m\u001b[0;34m\u001b[0m\u001b[0m\n\u001b[0;32m--> 915\u001b[0;31m         \u001b[0mresult\u001b[0m \u001b[0;34m=\u001b[0m \u001b[0mself\u001b[0m\u001b[0;34m.\u001b[0m\u001b[0m_call\u001b[0m\u001b[0;34m(\u001b[0m\u001b[0;34m*\u001b[0m\u001b[0margs\u001b[0m\u001b[0;34m,\u001b[0m \u001b[0;34m**\u001b[0m\u001b[0mkwds\u001b[0m\u001b[0;34m)\u001b[0m\u001b[0;34m\u001b[0m\u001b[0;34m\u001b[0m\u001b[0m\n\u001b[0m\u001b[1;32m    916\u001b[0m \u001b[0;34m\u001b[0m\u001b[0m\n\u001b[1;32m    917\u001b[0m       \u001b[0mnew_tracing_count\u001b[0m \u001b[0;34m=\u001b[0m \u001b[0mself\u001b[0m\u001b[0;34m.\u001b[0m\u001b[0mexperimental_get_tracing_count\u001b[0m\u001b[0;34m(\u001b[0m\u001b[0;34m)\u001b[0m\u001b[0;34m\u001b[0m\u001b[0;34m\u001b[0m\u001b[0m\n",
            "\u001b[0;32m/usr/local/lib/python3.7/dist-packages/tensorflow/python/eager/def_function.py\u001b[0m in \u001b[0;36m_call\u001b[0;34m(self, *args, **kwds)\u001b[0m\n\u001b[1;32m    945\u001b[0m       \u001b[0;31m# In this case we have created variables on the first call, so we run the\u001b[0m\u001b[0;34m\u001b[0m\u001b[0;34m\u001b[0m\u001b[0;34m\u001b[0m\u001b[0m\n\u001b[1;32m    946\u001b[0m       \u001b[0;31m# defunned version which is guaranteed to never create variables.\u001b[0m\u001b[0;34m\u001b[0m\u001b[0;34m\u001b[0m\u001b[0;34m\u001b[0m\u001b[0m\n\u001b[0;32m--> 947\u001b[0;31m       \u001b[0;32mreturn\u001b[0m \u001b[0mself\u001b[0m\u001b[0;34m.\u001b[0m\u001b[0m_stateless_fn\u001b[0m\u001b[0;34m(\u001b[0m\u001b[0;34m*\u001b[0m\u001b[0margs\u001b[0m\u001b[0;34m,\u001b[0m \u001b[0;34m**\u001b[0m\u001b[0mkwds\u001b[0m\u001b[0;34m)\u001b[0m  \u001b[0;31m# pylint: disable=not-callable\u001b[0m\u001b[0;34m\u001b[0m\u001b[0;34m\u001b[0m\u001b[0m\n\u001b[0m\u001b[1;32m    948\u001b[0m     \u001b[0;32melif\u001b[0m \u001b[0mself\u001b[0m\u001b[0;34m.\u001b[0m\u001b[0m_stateful_fn\u001b[0m \u001b[0;32mis\u001b[0m \u001b[0;32mnot\u001b[0m \u001b[0;32mNone\u001b[0m\u001b[0;34m:\u001b[0m\u001b[0;34m\u001b[0m\u001b[0;34m\u001b[0m\u001b[0m\n\u001b[1;32m    949\u001b[0m       \u001b[0;31m# Release the lock early so that multiple threads can perform the call\u001b[0m\u001b[0;34m\u001b[0m\u001b[0;34m\u001b[0m\u001b[0;34m\u001b[0m\u001b[0m\n",
            "\u001b[0;32m/usr/local/lib/python3.7/dist-packages/tensorflow/python/eager/function.py\u001b[0m in \u001b[0;36m__call__\u001b[0;34m(self, *args, **kwargs)\u001b[0m\n\u001b[1;32m   2955\u001b[0m        filtered_flat_args) = self._maybe_define_function(args, kwargs)\n\u001b[1;32m   2956\u001b[0m     return graph_function._call_flat(\n\u001b[0;32m-> 2957\u001b[0;31m         filtered_flat_args, captured_inputs=graph_function.captured_inputs)  # pylint: disable=protected-access\n\u001b[0m\u001b[1;32m   2958\u001b[0m \u001b[0;34m\u001b[0m\u001b[0m\n\u001b[1;32m   2959\u001b[0m   \u001b[0;34m@\u001b[0m\u001b[0mproperty\u001b[0m\u001b[0;34m\u001b[0m\u001b[0;34m\u001b[0m\u001b[0m\n",
            "\u001b[0;32m/usr/local/lib/python3.7/dist-packages/tensorflow/python/eager/function.py\u001b[0m in \u001b[0;36m_call_flat\u001b[0;34m(self, args, captured_inputs, cancellation_manager)\u001b[0m\n\u001b[1;32m   1852\u001b[0m       \u001b[0;31m# No tape is watching; skip to running the function.\u001b[0m\u001b[0;34m\u001b[0m\u001b[0;34m\u001b[0m\u001b[0;34m\u001b[0m\u001b[0m\n\u001b[1;32m   1853\u001b[0m       return self._build_call_outputs(self._inference_function.call(\n\u001b[0;32m-> 1854\u001b[0;31m           ctx, args, cancellation_manager=cancellation_manager))\n\u001b[0m\u001b[1;32m   1855\u001b[0m     forward_backward = self._select_forward_and_backward_functions(\n\u001b[1;32m   1856\u001b[0m         \u001b[0margs\u001b[0m\u001b[0;34m,\u001b[0m\u001b[0;34m\u001b[0m\u001b[0;34m\u001b[0m\u001b[0m\n",
            "\u001b[0;32m/usr/local/lib/python3.7/dist-packages/tensorflow/python/eager/function.py\u001b[0m in \u001b[0;36mcall\u001b[0;34m(self, ctx, args, cancellation_manager)\u001b[0m\n\u001b[1;32m    502\u001b[0m               \u001b[0minputs\u001b[0m\u001b[0;34m=\u001b[0m\u001b[0margs\u001b[0m\u001b[0;34m,\u001b[0m\u001b[0;34m\u001b[0m\u001b[0;34m\u001b[0m\u001b[0m\n\u001b[1;32m    503\u001b[0m               \u001b[0mattrs\u001b[0m\u001b[0;34m=\u001b[0m\u001b[0mattrs\u001b[0m\u001b[0;34m,\u001b[0m\u001b[0;34m\u001b[0m\u001b[0;34m\u001b[0m\u001b[0m\n\u001b[0;32m--> 504\u001b[0;31m               ctx=ctx)\n\u001b[0m\u001b[1;32m    505\u001b[0m         \u001b[0;32melse\u001b[0m\u001b[0;34m:\u001b[0m\u001b[0;34m\u001b[0m\u001b[0;34m\u001b[0m\u001b[0m\n\u001b[1;32m    506\u001b[0m           outputs = execute.execute_with_cancellation(\n",
            "\u001b[0;32m/usr/local/lib/python3.7/dist-packages/tensorflow/python/eager/execute.py\u001b[0m in \u001b[0;36mquick_execute\u001b[0;34m(op_name, num_outputs, inputs, attrs, ctx, name)\u001b[0m\n\u001b[1;32m     53\u001b[0m     \u001b[0mctx\u001b[0m\u001b[0;34m.\u001b[0m\u001b[0mensure_initialized\u001b[0m\u001b[0;34m(\u001b[0m\u001b[0;34m)\u001b[0m\u001b[0;34m\u001b[0m\u001b[0;34m\u001b[0m\u001b[0m\n\u001b[1;32m     54\u001b[0m     tensors = pywrap_tfe.TFE_Py_Execute(ctx._handle, device_name, op_name,\n\u001b[0;32m---> 55\u001b[0;31m                                         inputs, attrs, num_outputs)\n\u001b[0m\u001b[1;32m     56\u001b[0m   \u001b[0;32mexcept\u001b[0m \u001b[0mcore\u001b[0m\u001b[0;34m.\u001b[0m\u001b[0m_NotOkStatusException\u001b[0m \u001b[0;32mas\u001b[0m \u001b[0me\u001b[0m\u001b[0;34m:\u001b[0m\u001b[0;34m\u001b[0m\u001b[0;34m\u001b[0m\u001b[0m\n\u001b[1;32m     57\u001b[0m     \u001b[0;32mif\u001b[0m \u001b[0mname\u001b[0m \u001b[0;32mis\u001b[0m \u001b[0;32mnot\u001b[0m \u001b[0;32mNone\u001b[0m\u001b[0;34m:\u001b[0m\u001b[0;34m\u001b[0m\u001b[0;34m\u001b[0m\u001b[0m\n",
            "\u001b[0;31mKeyboardInterrupt\u001b[0m: "
          ]
        }
      ]
    },
    {
      "cell_type": "code",
      "execution_count": null,
      "metadata": {
        "colab": {
          "background_save": true
        },
        "id": "0naAK8lOiAWR",
        "outputId": "a0c99acd-fbf0-4d53-b421-13582a9a37ef"
      },
      "outputs": [
        {
          "name": "stdout",
          "output_type": "stream",
          "text": [
            "1 Fold\n",
            "Epoch 1/5\n",
            "111/111 [==============================] - 3s 9ms/step - loss: 0.6676 - accuracy: 0.7363\n",
            "Epoch 2/5\n",
            "111/111 [==============================] - 1s 9ms/step - loss: 0.5968 - accuracy: 0.7476\n",
            "Epoch 3/5\n",
            "111/111 [==============================] - 1s 9ms/step - loss: 0.4804 - accuracy: 0.7476\n",
            "Epoch 4/5\n",
            "111/111 [==============================] - 1s 9ms/step - loss: 0.3928 - accuracy: 0.7476\n",
            "Epoch 5/5\n",
            "111/111 [==============================] - 1s 9ms/step - loss: 0.3513 - accuracy: 0.7476\n",
            "Classification Report\n",
            "              precision    recall  f1-score   support\n",
            "\n",
            "           0       0.72      1.00      0.84       640\n",
            "           1       0.00      0.00      0.00       247\n",
            "\n",
            "    accuracy                           0.72       887\n",
            "   macro avg       0.36      0.50      0.42       887\n",
            "weighted avg       0.52      0.72      0.60       887\n",
            "\n",
            "Accuracy :  0.7215332581736189\n"
          ]
        },
        {
          "data": {
            "image/png": "[encoded data removed]",
            "text/plain": [
              "<Figure size 432x288 with 2 Axes>"
            ]
          },
          "metadata": {},
          "output_type": "display_data"
        },
        {
          "name": "stdout",
          "output_type": "stream",
          "text": [
            "----------------------------------------------------------------------------------------------------\n",
            "2 Fold\n",
            "Epoch 1/5\n",
            "111/111 [==============================] - 1s 9ms/step - loss: 0.3358 - accuracy: 0.7425\n",
            "Epoch 2/5\n",
            "111/111 [==============================] - 1s 9ms/step - loss: 0.3183 - accuracy: 0.7425\n",
            "Epoch 3/5\n",
            "111/111 [==============================] - 1s 9ms/step - loss: 0.3045 - accuracy: 0.7425\n",
            "Epoch 4/5\n",
            "111/111 [==============================] - 1s 9ms/step - loss: 0.2940 - accuracy: 0.7879\n",
            "Epoch 5/5\n",
            "111/111 [==============================] - 1s 9ms/step - loss: 0.2848 - accuracy: 0.8804\n",
            "Classification Report\n",
            "              precision    recall  f1-score   support\n",
            "\n",
            "           0       0.86      0.97      0.91       658\n",
            "           1       0.87      0.56      0.68       229\n",
            "\n",
            "    accuracy                           0.86       887\n",
            "   macro avg       0.87      0.77      0.80       887\n",
            "weighted avg       0.86      0.86      0.85       887\n",
            "\n",
            "Accuracy :  0.8647125140924464\n"
          ]
        },
        {
          "data": {
            "image/png": "[encoded data removed]",
            "text/plain": [
              "<Figure size 432x288 with 2 Axes>"
            ]
          },
          "metadata": {},
          "output_type": "display_data"
        },
        {
          "name": "stdout",
          "output_type": "stream",
          "text": [
            "----------------------------------------------------------------------------------------------------\n",
            "3 Fold\n",
            "Epoch 1/5\n",
            "111/111 [==============================] - 1s 9ms/step - loss: 0.2791 - accuracy: 0.9010\n",
            "Epoch 2/5\n",
            "111/111 [==============================] - 1s 9ms/step - loss: 0.2637 - accuracy: 0.9219\n",
            "Epoch 3/5\n",
            "111/111 [==============================] - 1s 9ms/step - loss: 0.2457 - accuracy: 0.9289\n",
            "Epoch 4/5\n",
            "111/111 [==============================] - 1s 9ms/step - loss: 0.2256 - accuracy: 0.9343\n",
            "Epoch 5/5\n",
            "111/111 [==============================] - 1s 9ms/step - loss: 0.2057 - accuracy: 0.9397\n",
            "Classification Report\n",
            "              precision    recall  f1-score   support\n",
            "\n",
            "           0       0.96      0.94      0.95       672\n",
            "           1       0.82      0.87      0.85       215\n",
            "\n",
            "    accuracy                           0.92       887\n",
            "   macro avg       0.89      0.91      0.90       887\n",
            "weighted avg       0.93      0.92      0.92       887\n",
            "\n",
            "Accuracy :  0.923337091319053\n"
          ]
        },
        {
          "data": {
            "image/png": "[encoded data removed]",
            "text/plain": [
              "<Figure size 432x288 with 2 Axes>"
            ]
          },
          "metadata": {},
          "output_type": "display_data"
        },
        {
          "name": "stdout",
          "output_type": "stream",
          "text": [
            "----------------------------------------------------------------------------------------------------\n",
            "4 Fold\n",
            "Epoch 1/5\n",
            "111/111 [==============================] - 1s 12ms/step - loss: 0.1956 - accuracy: 0.9377\n",
            "Epoch 2/5\n",
            "111/111 [==============================] - 1s 9ms/step - loss: 0.1799 - accuracy: 0.9411\n",
            "Epoch 3/5\n",
            "111/111 [==============================] - 1s 9ms/step - loss: 0.1669 - accuracy: 0.9473\n",
            "Epoch 4/5\n",
            "111/111 [==============================] - 1s 9ms/step - loss: 0.1551 - accuracy: 0.9509\n",
            "Epoch 5/5\n",
            "111/111 [==============================] - 1s 9ms/step - loss: 0.1454 - accuracy: 0.9526\n",
            "Classification Report\n",
            "              precision    recall  f1-score   support\n",
            "\n",
            "           0       0.97      0.95      0.96       656\n",
            "           1       0.86      0.91      0.88       230\n",
            "\n",
            "    accuracy                           0.94       886\n",
            "   macro avg       0.91      0.93      0.92       886\n",
            "weighted avg       0.94      0.94      0.94       886\n",
            "\n",
            "Accuracy :  0.9367945823927766\n"
          ]
        },
        {
          "data": {
            "image/png": "[encoded data removed]",
            "text/plain": [
              "<Figure size 432x288 with 2 Axes>"
            ]
          },
          "metadata": {},
          "output_type": "display_data"
        },
        {
          "name": "stdout",
          "output_type": "stream",
          "text": [
            "----------------------------------------------------------------------------------------------------\n",
            "5 Fold\n",
            "Epoch 1/5\n",
            "111/111 [==============================] - 1s 9ms/step - loss: 0.1450 - accuracy: 0.9501\n",
            "Epoch 2/5\n",
            "111/111 [==============================] - 1s 9ms/step - loss: 0.1350 - accuracy: 0.9563\n",
            "Epoch 3/5\n",
            "111/111 [==============================] - 1s 9ms/step - loss: 0.1262 - accuracy: 0.9608\n",
            "Epoch 4/5\n",
            "111/111 [==============================] - 1s 9ms/step - loss: 0.1181 - accuracy: 0.9628\n",
            "Epoch 5/5\n",
            "111/111 [==============================] - 1s 9ms/step - loss: 0.1113 - accuracy: 0.9650\n",
            "Classification Report\n",
            "              precision    recall  f1-score   support\n",
            "\n",
            "           0       0.98      0.96      0.97       665\n",
            "           1       0.88      0.95      0.92       221\n",
            "\n",
            "    accuracy                           0.96       886\n",
            "   macro avg       0.93      0.96      0.94       886\n",
            "weighted avg       0.96      0.96      0.96       886\n",
            "\n",
            "Accuracy :  0.9571106094808126\n"
          ]
        },
        {
          "data": {
            "image/png": "[encoded data removed]",
            "text/plain": [
              "<Figure size 432x288 with 2 Axes>"
            ]
          },
          "metadata": {},
          "output_type": "display_data"
        },
        {
          "name": "stdout",
          "output_type": "stream",
          "text": [
            "----------------------------------------------------------------------------------------------------\n",
            "====================================================================================================\n",
            "5 Fold Validation Mean Accuracy\n",
            "akurasi tertinggi :  0.9571106094808126\n",
            "akurasi terendah :  0.7215332581736189\n",
            "rata-rata akurasi :  0.8806976110917415\n"
          ]
        }
      ],
      "source": [
        "fold = 0\n",
        "acc = []\n",
        "\n",
        "for train_index, test_index in kf.split(df_vector):\n",
        "  fold += 1\n",
        "  print(f'{fold} Fold')\n",
        "  y = OneHotEncoder(sparse=False)\n",
        "  labels = pd.DataFrame(y.fit_transform(Label.reshape(-1, 1)))\n",
        "  X_train, X_test = df_vector.iloc[train_index], df_vector.iloc[test_index]\n",
        "  y_train, y_test = labels.iloc[train_index], Label[test_index]\n",
        "\n",
        "  # Training Classifier Model\n",
        "  best_model.fit(X_train,y_train, epochs=5)\n",
        "\n",
        "  # Melakukan Prediksi\n",
        "  y_predict = np.argmax(best_model.predict(X_test),axis=1)\n",
        "\n",
        "  # Membandingkan hasil Prediksi terhadap data asli\n",
        "  print(\"Classification Report\")\n",
        "  print(classification_report(y_test,y_predict))\n",
        "  print('Accuracy : ', accuracy_score(y_test,y_predict))\n",
        "  acc.append(accuracy_score(y_test,y_predict))\n",
        "\n",
        "  cnf_matrix = confusion_matrix(y_test,y_predict)\n",
        "  s = sn.heatmap(cnf_matrix/np.sum(cnf_matrix),\n",
        "            annot=True,\n",
        "            fmt='.2%',\n",
        "            xticklabels = ['HS', 'Non_HS'],\n",
        "            yticklabels = ['HS', 'Non_HS'],\n",
        "            );\n",
        "  s.set_xlabel('Predicted Label');\n",
        "  s.set_ylabel('True Label');\n",
        "  plt.show()\n",
        "  print('-'*100)\n",
        "\n",
        "print('='*100)\n",
        "print(f'{fold} Fold Validation Mean Accuracy')\n",
        "print('akurasi tertinggi : ',np.max(acc))\n",
        "print('akurasi terendah : ',np.min(acc))\n",
        "print('rata-rata akurasi : ',np.mean(acc))"
      ]
    },
    {
      "cell_type": "markdown",
      "source": [
        "### Parameter Tuning Manual"
      ],
      "metadata": {
        "id": "ks0zJuJEa_AC"
      }
    },
    {
      "cell_type": "markdown",
      "source": [
        "#### Unit Tuning"
      ],
      "metadata": {
        "id": "4X5W2yepa_AL"
      }
    },
    {
      "cell_type": "markdown",
      "source": [
        "##### Unit = 8"
      ],
      "metadata": {
        "id": "gw2aEJuAa_AL"
      }
    },
    {
      "cell_type": "code",
      "source": [
        "def build_model():\n",
        "  # Input Layer\n",
        "  input = Input(shape=(df_vector.shape[1],))\n",
        "  layer1 = Dense(10, activation='relu')(input)\n",
        "\n",
        "  # Definisi MLP\n",
        "  mlp_hidden1 = Dense(8, activation='relu')(layer1)\n",
        "  mlp_hidden2 = Dense(8, activation='relu')(mlp_hidden1)\n",
        "  mlp_hidden3 = Dense(8, activation='relu')(mlp_hidden2)\n",
        "\n",
        "  # Definisi RNN\n",
        "  reshape = tf.keras.layers.Reshape((10,1))(layer1)\n",
        "  lstm_hidden1 = LSTM(8)(reshape)\n",
        "\n",
        "  # merge feature extractors\n",
        "  merge = concatenate([mlp_hidden3, lstm_hidden1])\n",
        "\n",
        "  # interpretation layer\n",
        "  interpretation = Dense(10, activation='relu')(merge)\n",
        "\n",
        "  # output layer\n",
        "  output = Dense(2, activation='sigmoid')(interpretation)\n",
        "\n",
        "  model = Model(inputs=input, outputs=output)\n",
        "  model.compile(\n",
        "      loss = tf.keras.losses.BinaryCrossentropy(),\n",
        "      optimizer = tf.keras.optimizers.Adam(1e-4),\n",
        "      metrics = ['accuracy']\n",
        "  )\n",
        "  return model"
      ],
      "metadata": {
        "id": "uTzF1ar_a_AL"
      },
      "execution_count": null,
      "outputs": []
    },
    {
      "cell_type": "code",
      "source": [
        "fold = 0\n",
        "acc = []\n",
        "best_model = build_model()\n",
        "for train_index, test_index in kf.split(df_vector):\n",
        "  fold += 1\n",
        "  print(f'{fold} Fold')\n",
        "  y = OneHotEncoder(sparse=False)\n",
        "  labels = pd.DataFrame(y.fit_transform(Label.reshape(-1, 1)))\n",
        "  X_train, X_test = df_vector.iloc[train_index], df_vector.iloc[test_index]\n",
        "  y_train, y_test = labels.iloc[train_index], Label[test_index]\n",
        "\n",
        "  # Training Classifier Model\n",
        "  best_model.fit(X_train,y_train, epochs=5)\n",
        "\n",
        "  # Melakukan Prediksi\n",
        "  y_predict = np.argmax(best_model.predict(X_test),axis=1)\n",
        "\n",
        "  # Membandingkan hasil Prediksi terhadap data asli\n",
        "  print(\"Classification Report\")\n",
        "  print(classification_report(y_test,y_predict))\n",
        "  print('Accuracy : ', accuracy_score(y_test,y_predict))\n",
        "  acc.append(accuracy_score(y_test,y_predict))\n",
        "\n",
        "  cnf_matrix = confusion_matrix(y_test,y_predict)\n",
        "  s = sn.heatmap(cnf_matrix/np.sum(cnf_matrix),\n",
        "            annot=True,\n",
        "            fmt='.2%',\n",
        "            xticklabels = ['HS', 'Non_HS'],\n",
        "            yticklabels = ['HS', 'Non_HS'],\n",
        "            );\n",
        "  s.set_xlabel('Predicted Label');\n",
        "  s.set_ylabel('True Label');\n",
        "  plt.show()\n",
        "  print('-'*100)\n",
        "\n",
        "print('='*100)\n",
        "print(f'{fold} Fold Validation Mean Accuracy')\n",
        "print('akurasi tertinggi : ',np.max(acc))\n",
        "print('akurasi terendah : ',np.min(acc))\n",
        "print('rata-rata akurasi : ',np.mean(acc))"
      ],
      "metadata": {
        "id": "RMHGbdika_AL"
      },
      "execution_count": null,
      "outputs": []
    },
    {
      "cell_type": "markdown",
      "source": [
        "##### Unit = 16"
      ],
      "metadata": {
        "id": "6WDEUlwxa_AM"
      }
    },
    {
      "cell_type": "code",
      "source": [
        "def build_model():\n",
        "  # Input Layer\n",
        "  input = Input(shape=(df_vector.shape[1],))\n",
        "  layer1 = Dense(10, activation='relu')(input)\n",
        "\n",
        "  # Definisi MLP\n",
        "  mlp_hidden1 = Dense(16, activation='relu')(layer1)\n",
        "  mlp_hidden2 = Dense(16, activation='relu')(mlp_hidden1)\n",
        "  mlp_hidden3 = Dense(16, activation='relu')(mlp_hidden2)\n",
        "\n",
        "  # Definisi RNN\n",
        "  reshape = tf.keras.layers.Reshape((10,1))(layer1)\n",
        "  lstm_hidden1 = LSTM(16)(reshape)\n",
        "\n",
        "  # merge feature extractors\n",
        "  merge = concatenate([mlp_hidden3, lstm_hidden1])\n",
        "\n",
        "  # interpretation layer\n",
        "  interpretation = Dense(10, activation='relu')(merge)\n",
        "\n",
        "  # output layer\n",
        "  output = Dense(2, activation='sigmoid')(interpretation)\n",
        "\n",
        "  model = Model(inputs=input, outputs=output)\n",
        "  model.compile(\n",
        "      loss = tf.keras.losses.BinaryCrossentropy(),\n",
        "      optimizer = tf.keras.optimizers.Adam(1e-4),\n",
        "      metrics = ['accuracy']\n",
        "  )\n",
        "  return model"
      ],
      "metadata": {
        "id": "IkM1MBkIa_AM"
      },
      "execution_count": null,
      "outputs": []
    },
    {
      "cell_type": "code",
      "source": [
        "fold = 0\n",
        "acc = []\n",
        "best_model = build_model()\n",
        "for train_index, test_index in kf.split(df_vector):\n",
        "  fold += 1\n",
        "  print(f'{fold} Fold')\n",
        "  y = OneHotEncoder(sparse=False)\n",
        "  labels = pd.DataFrame(y.fit_transform(Label.reshape(-1, 1)))\n",
        "  X_train, X_test = df_vector.iloc[train_index], df_vector.iloc[test_index]\n",
        "  y_train, y_test = labels.iloc[train_index], Label[test_index]\n",
        "\n",
        "  # Training Classifier Model\n",
        "  best_model.fit(X_train,y_train, epochs=5)\n",
        "\n",
        "  # Melakukan Prediksi\n",
        "  y_predict = np.argmax(best_model.predict(X_test),axis=1)\n",
        "\n",
        "  # Membandingkan hasil Prediksi terhadap data asli\n",
        "  print(\"Classification Report\")\n",
        "  print(classification_report(y_test,y_predict))\n",
        "  print('Accuracy : ', accuracy_score(y_test,y_predict))\n",
        "  acc.append(accuracy_score(y_test,y_predict))\n",
        "\n",
        "  cnf_matrix = confusion_matrix(y_test,y_predict)\n",
        "  s = sn.heatmap(cnf_matrix/np.sum(cnf_matrix),\n",
        "            annot=True,\n",
        "            fmt='.2%',\n",
        "            xticklabels = ['HS', 'Non_HS'],\n",
        "            yticklabels = ['HS', 'Non_HS'],\n",
        "            );\n",
        "  s.set_xlabel('Predicted Label');\n",
        "  s.set_ylabel('True Label');\n",
        "  plt.show()\n",
        "  print('-'*100)\n",
        "\n",
        "print('='*100)\n",
        "print(f'{fold} Fold Validation Mean Accuracy')\n",
        "print('akurasi tertinggi : ',np.max(acc))\n",
        "print('akurasi terendah : ',np.min(acc))\n",
        "print('rata-rata akurasi : ',np.mean(acc))"
      ],
      "metadata": {
        "id": "lGJDSGL4a_AM"
      },
      "execution_count": null,
      "outputs": []
    },
    {
      "cell_type": "markdown",
      "source": [
        "##### Unit = 32"
      ],
      "metadata": {
        "id": "bOvTWpQua_AM"
      }
    },
    {
      "cell_type": "code",
      "source": [
        "def build_model():\n",
        "  # Input Layer\n",
        "  input = Input(shape=(df_vector.shape[1],))\n",
        "  layer1 = Dense(10, activation='relu')(input)\n",
        "\n",
        "  # Definisi MLP\n",
        "  mlp_hidden1 = Dense(32, activation='relu')(layer1)\n",
        "  mlp_hidden2 = Dense(32, activation='relu')(mlp_hidden1)\n",
        "  mlp_hidden3 = Dense(32, activation='relu')(mlp_hidden2)\n",
        "\n",
        "  # Definisi RNN\n",
        "  reshape = tf.keras.layers.Reshape((10,1))(layer1)\n",
        "  lstm_hidden1 = LSTM(32)(reshape)\n",
        "\n",
        "  # merge feature extractors\n",
        "  merge = concatenate([mlp_hidden3, lstm_hidden1])\n",
        "\n",
        "  # interpretation layer\n",
        "  interpretation = Dense(10, activation='relu')(merge)\n",
        "\n",
        "  # output layer\n",
        "  output = Dense(2, activation='sigmoid')(interpretation)\n",
        "\n",
        "  model = Model(inputs=input, outputs=output)\n",
        "  model.compile(\n",
        "      loss = tf.keras.losses.BinaryCrossentropy(),\n",
        "      optimizer = tf.keras.optimizers.Adam(1e-4),\n",
        "      metrics = ['accuracy']\n",
        "  )\n",
        "  return model"
      ],
      "metadata": {
        "id": "pQCUOwOza_AN"
      },
      "execution_count": null,
      "outputs": []
    },
    {
      "cell_type": "code",
      "source": [
        "fold = 0\n",
        "acc = []\n",
        "best_model = build_model()\n",
        "for train_index, test_index in kf.split(df_vector):\n",
        "  fold += 1\n",
        "  print(f'{fold} Fold')\n",
        "  y = OneHotEncoder(sparse=False)\n",
        "  labels = pd.DataFrame(y.fit_transform(Label.reshape(-1, 1)))\n",
        "  X_train, X_test = df_vector.iloc[train_index], df_vector.iloc[test_index]\n",
        "  y_train, y_test = labels.iloc[train_index], Label[test_index]\n",
        "\n",
        "  # Training Classifier Model\n",
        "  best_model.fit(X_train,y_train, epochs=5)\n",
        "\n",
        "  # Melakukan Prediksi\n",
        "  y_predict = np.argmax(best_model.predict(X_test),axis=1)\n",
        "\n",
        "  # Membandingkan hasil Prediksi terhadap data asli\n",
        "  print(\"Classification Report\")\n",
        "  print(classification_report(y_test,y_predict))\n",
        "  print('Accuracy : ', accuracy_score(y_test,y_predict))\n",
        "  acc.append(accuracy_score(y_test,y_predict))\n",
        "\n",
        "  cnf_matrix = confusion_matrix(y_test,y_predict)\n",
        "  s = sn.heatmap(cnf_matrix/np.sum(cnf_matrix),\n",
        "            annot=True,\n",
        "            fmt='.2%',\n",
        "            xticklabels = ['HS', 'Non_HS'],\n",
        "            yticklabels = ['HS', 'Non_HS'],\n",
        "            );\n",
        "  s.set_xlabel('Predicted Label');\n",
        "  s.set_ylabel('True Label');\n",
        "  plt.show()\n",
        "  print('-'*100)\n",
        "\n",
        "print('='*100)\n",
        "print(f'{fold} Fold Validation Mean Accuracy')\n",
        "print('akurasi tertinggi : ',np.max(acc))\n",
        "print('akurasi terendah : ',np.min(acc))\n",
        "print('rata-rata akurasi : ',np.mean(acc))"
      ],
      "metadata": {
        "id": "hHBfn1vNa_AN"
      },
      "execution_count": null,
      "outputs": []
    },
    {
      "cell_type": "markdown",
      "source": [
        "##### Unit = 64"
      ],
      "metadata": {
        "id": "m3wmWdPZa_AN"
      }
    },
    {
      "cell_type": "code",
      "source": [
        "def build_model():\n",
        "  # Input Layer\n",
        "  input = Input(shape=(df_vector.shape[1],))\n",
        "  layer1 = Dense(10, activation='relu')(input)\n",
        "\n",
        "  # Definisi MLP\n",
        "  mlp_hidden1 = Dense(64, activation='relu')(layer1)\n",
        "  mlp_hidden2 = Dense(64, activation='relu')(mlp_hidden1)\n",
        "  mlp_hidden3 = Dense(64, activation='relu')(mlp_hidden2)\n",
        "\n",
        "  # Definisi RNN\n",
        "  reshape = tf.keras.layers.Reshape((10,1))(layer1)\n",
        "  lstm_hidden1 = LSTM(64)(reshape)\n",
        "\n",
        "  # merge feature extractors\n",
        "  merge = concatenate([mlp_hidden3, lstm_hidden1])\n",
        "\n",
        "  # interpretation layer\n",
        "  interpretation = Dense(10, activation='relu')(merge)\n",
        "\n",
        "  # output layer\n",
        "  output = Dense(2, activation='sigmoid')(interpretation)\n",
        "\n",
        "  model = Model(inputs=input, outputs=output)\n",
        "  model.compile(\n",
        "      loss = tf.keras.losses.BinaryCrossentropy(),\n",
        "      optimizer = tf.keras.optimizers.Adam(1e-4),\n",
        "      metrics = ['accuracy']\n",
        "  )\n",
        "  return model"
      ],
      "metadata": {
        "id": "wyNDsg_5a_AN"
      },
      "execution_count": null,
      "outputs": []
    },
    {
      "cell_type": "code",
      "source": [
        "fold = 0\n",
        "acc = []\n",
        "best_model = build_model()\n",
        "for train_index, test_index in kf.split(df_vector):\n",
        "  fold += 1\n",
        "  print(f'{fold} Fold')\n",
        "  y = OneHotEncoder(sparse=False)\n",
        "  labels = pd.DataFrame(y.fit_transform(Label.reshape(-1, 1)))\n",
        "  X_train, X_test = df_vector.iloc[train_index], df_vector.iloc[test_index]\n",
        "  y_train, y_test = labels.iloc[train_index], Label[test_index]\n",
        "\n",
        "  # Training Classifier Model\n",
        "  best_model.fit(X_train,y_train, epochs=5)\n",
        "\n",
        "  # Melakukan Prediksi\n",
        "  y_predict = np.argmax(best_model.predict(X_test),axis=1)\n",
        "\n",
        "  # Membandingkan hasil Prediksi terhadap data asli\n",
        "  print(\"Classification Report\")\n",
        "  print(classification_report(y_test,y_predict))\n",
        "  print('Accuracy : ', accuracy_score(y_test,y_predict))\n",
        "  acc.append(accuracy_score(y_test,y_predict))\n",
        "\n",
        "  cnf_matrix = confusion_matrix(y_test,y_predict)\n",
        "  s = sn.heatmap(cnf_matrix/np.sum(cnf_matrix),\n",
        "            annot=True,\n",
        "            fmt='.2%',\n",
        "            xticklabels = ['HS', 'Non_HS'],\n",
        "            yticklabels = ['HS', 'Non_HS'],\n",
        "            );\n",
        "  s.set_xlabel('Predicted Label');\n",
        "  s.set_ylabel('True Label');\n",
        "  plt.show()\n",
        "  print('-'*100)\n",
        "\n",
        "print('='*100)\n",
        "print(f'{fold} Fold Validation Mean Accuracy')\n",
        "print('akurasi tertinggi : ',np.max(acc))\n",
        "print('akurasi terendah : ',np.min(acc))\n",
        "print('rata-rata akurasi : ',np.mean(acc))"
      ],
      "metadata": {
        "id": "aLAvqHsda_AO"
      },
      "execution_count": null,
      "outputs": []
    },
    {
      "cell_type": "markdown",
      "source": [
        "##### Unit = 128"
      ],
      "metadata": {
        "id": "NBXmXv4Ga_AO"
      }
    },
    {
      "cell_type": "code",
      "source": [
        "def build_model():\n",
        "  # Input Layer\n",
        "  input = Input(shape=(df_vector.shape[1],))\n",
        "  layer1 = Dense(10, activation='relu')(input)\n",
        "\n",
        "  # Definisi MLP\n",
        "  mlp_hidden1 = Dense(128, activation='relu')(layer1)\n",
        "  mlp_hidden2 = Dense(128, activation='relu')(mlp_hidden1)\n",
        "  mlp_hidden3 = Dense(128, activation='relu')(mlp_hidden2)\n",
        "\n",
        "  # Definisi RNN\n",
        "  reshape = tf.keras.layers.Reshape((10,1))(layer1)\n",
        "  lstm_hidden1 = LSTM(128)(reshape)\n",
        "\n",
        "  # merge feature extractors\n",
        "  merge = concatenate([mlp_hidden3, lstm_hidden1])\n",
        "\n",
        "  # interpretation layer\n",
        "  interpretation = Dense(10, activation='relu')(merge)\n",
        "\n",
        "  # output layer\n",
        "  output = Dense(2, activation='sigmoid')(interpretation)\n",
        "\n",
        "  model = Model(inputs=input, outputs=output)\n",
        "  model.compile(\n",
        "      loss = tf.keras.losses.BinaryCrossentropy(),\n",
        "      optimizer = tf.keras.optimizers.Adam(1e-4),\n",
        "      metrics = ['accuracy']\n",
        "  )\n",
        "  return model"
      ],
      "metadata": {
        "id": "rXWQ99LPa_AO"
      },
      "execution_count": null,
      "outputs": []
    },
    {
      "cell_type": "code",
      "source": [
        "fold = 0\n",
        "acc = []\n",
        "best_model = build_model()\n",
        "for train_index, test_index in kf.split(df_vector):\n",
        "  fold += 1\n",
        "  print(f'{fold} Fold')\n",
        "  y = OneHotEncoder(sparse=False)\n",
        "  labels = pd.DataFrame(y.fit_transform(Label.reshape(-1, 1)))\n",
        "  X_train, X_test = df_vector.iloc[train_index], df_vector.iloc[test_index]\n",
        "  y_train, y_test = labels.iloc[train_index], Label[test_index]\n",
        "\n",
        "  # Training Classifier Model\n",
        "  best_model.fit(X_train,y_train, epochs=5)\n",
        "\n",
        "  # Melakukan Prediksi\n",
        "  y_predict = np.argmax(best_model.predict(X_test),axis=1)\n",
        "\n",
        "  # Membandingkan hasil Prediksi terhadap data asli\n",
        "  print(\"Classification Report\")\n",
        "  print(classification_report(y_test,y_predict))\n",
        "  print('Accuracy : ', accuracy_score(y_test,y_predict))\n",
        "  acc.append(accuracy_score(y_test,y_predict))\n",
        "\n",
        "  cnf_matrix = confusion_matrix(y_test,y_predict)\n",
        "  s = sn.heatmap(cnf_matrix/np.sum(cnf_matrix),\n",
        "            annot=True,\n",
        "            fmt='.2%',\n",
        "            xticklabels = ['HS', 'Non_HS'],\n",
        "            yticklabels = ['HS', 'Non_HS'],\n",
        "            );\n",
        "  s.set_xlabel('Predicted Label');\n",
        "  s.set_ylabel('True Label');\n",
        "  plt.show()\n",
        "  print('-'*100)\n",
        "\n",
        "print('='*100)\n",
        "print(f'{fold} Fold Validation Mean Accuracy')\n",
        "print('akurasi tertinggi : ',np.max(acc))\n",
        "print('akurasi terendah : ',np.min(acc))\n",
        "print('rata-rata akurasi : ',np.mean(acc))"
      ],
      "metadata": {
        "id": "wdaYpJ98a_AO"
      },
      "execution_count": null,
      "outputs": []
    }
  ],
  "metadata": {
    "colab": {
      "provenance": [],
      "authorship_tag": "ABX9TyM1LNpEAgjN6gQ3PNiUnSRt",
      "include_colab_link": true
    },
    "kernelspec": {
      "display_name": "Python 3",
      "name": "python3"
    },
    "language_info": {
      "name": "python"
    },
    "accelerator": "GPU",
    "gpuClass": "standard"
  },
  "nbformat": 4,
  "nbformat_minor": 0
}